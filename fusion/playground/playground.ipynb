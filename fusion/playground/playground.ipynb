{
 "cells": [
  {
   "cell_type": "code",
   "execution_count": 1,
   "id": "dd4422f0-1ada-4324-8173-2fb89a605b7a",
   "metadata": {},
   "outputs": [],
   "source": [
    "import sys\n",
    "import os\n",
    "import numpy as np\n",
    "import pandas as pd"
   ]
  },
  {
   "cell_type": "code",
   "execution_count": 2,
   "id": "c79742a6-1df7-40ae-aec8-c3a3960e81e5",
   "metadata": {},
   "outputs": [],
   "source": [
    "NORMALIZED_COLLECTION = \"normalized_experts\""
   ]
  },
  {
   "cell_type": "code",
   "execution_count": 3,
   "id": "802e62b1-2f4c-4b28-bcd3-f34210913b6e",
   "metadata": {},
   "outputs": [
    {
     "data": {
      "text/plain": [
       "'/home/gil/dev/NEBULA2/fusion/playground'"
      ]
     },
     "execution_count": 3,
     "metadata": {},
     "output_type": "execute_result"
    }
   ],
   "source": [
    "os.getcwd()"
   ]
  },
  {
   "cell_type": "code",
   "execution_count": 4,
   "id": "21e88d2f-d40e-4aea-b664-850efa7195f4",
   "metadata": {},
   "outputs": [],
   "source": [
    "os.chdir(os.getcwd()+'/../..')"
   ]
  },
  {
   "cell_type": "code",
   "execution_count": 5,
   "id": "c1d55108-7a3e-487f-9e9a-db6230dafb9e",
   "metadata": {},
   "outputs": [],
   "source": [
    "from nebula_api.nebula_enrichment_api import *\n",
    "from experts.common.RemoteAPIUtility import RemoteAPIUtility"
   ]
  },
  {
   "cell_type": "code",
   "execution_count": 6,
   "id": "dddd9364-8b09-4c79-9fdc-e9329d40e5f8",
   "metadata": {},
   "outputs": [],
   "source": [
    "nre = NRE_API()\n",
    "api = RemoteAPIUtility()"
   ]
  },
  {
   "cell_type": "code",
   "execution_count": 7,
   "id": "f5dcd694-7362-4aa8-89e8-a6107f71ca1d",
   "metadata": {},
   "outputs": [],
   "source": [
    "mid = \"Movies/92363218\""
   ]
  },
  {
   "cell_type": "code",
   "execution_count": 8,
   "id": "3a0cbdac-1e0d-4ae2-aab9-600d4a7b2991",
   "metadata": {},
   "outputs": [],
   "source": [
    "b = nre.get_clip_data(mid)\n",
    "c = nre.get_vcomet_data(mid)"
   ]
  },
  {
   "cell_type": "code",
   "execution_count": 9,
   "id": "68f8bfe5-da78-486f-9760-85067550b144",
   "metadata": {},
   "outputs": [
    {
     "data": {
      "text/plain": [
       "[[['Slow motion shot of chauffeur helping businessman.',\n",
       "   'The president is riding in a car.',\n",
       "   'The prime minister is in a car.'],\n",
       "  ['The organization leader arrives in an automobile.',\n",
       "   'A criminal is sitting in a car.',\n",
       "   'The president sits in his car.'],\n",
       "  ['The businessmen are in a car.',\n",
       "   'Men in black car.',\n",
       "   'The businessmen are in a limousine.']],\n",
       " [[['bush', 'standing behind', 'plane'],\n",
       "   ['driver', 'wearing a', 'tie'],\n",
       "   ['head', 'sticking out of', 'car']],\n",
       "  [['man', 'in a', 'car'],\n",
       "   ['cop', 'in a', 'car'],\n",
       "   ['driver', 'wearing a', 'tie']],\n",
       "  [['driver', 'next to', 'passenger'],\n",
       "   ['rear window', 'of', 'car'],\n",
       "   ['driver', 'a', 'man']]]]"
      ]
     },
     "execution_count": 9,
     "metadata": {},
     "output_type": "execute_result"
    }
   ],
   "source": [
    "b[0]"
   ]
  },
  {
   "cell_type": "code",
   "execution_count": 10,
   "id": "66bc0eef-a8c4-4184-97ba-6a69f4054f31",
   "metadata": {},
   "outputs": [
    {
     "data": {
      "text/plain": [
       "{'_key': '131928667',\n",
       " '_id': 'nebula_vcomet_lighthouse/131928667',\n",
       " '_rev': '_dZisyiW---',\n",
       " 'scene_element': 3,\n",
       " 'start': 102,\n",
       " 'stop': 231,\n",
       " 'events': [[0.47332802414894104,\n",
       "   ['is at the guardrails trying to get away',\n",
       "    'is at the guardrails trying to get away']]],\n",
       " 'places': [[0.4062037467956543, 'outside of two police cars at night'],\n",
       "  [0.38419052958488464, 'outside cop cars'],\n",
       "  [0.37296247482299805, 'outside a building with police cars'],\n",
       "  [0.3687617778778076,\n",
       "   'outside on a street at night that is filled with police cars'],\n",
       "  [0.36111465096473694, 'outside next to a neon sign'],\n",
       "  [0.35885727405548096, 'outside of a cop car']],\n",
       " 'actions': [[0.5088728666305542,\n",
       "   ['stop cars for id', 'They want to stop cars for id']],\n",
       "  [0.48008376359939575,\n",
       "   ['call the police on the speeding cars',\n",
       "    'They want to call the police on the speeding cars']],\n",
       "  [0.4759265184402466,\n",
       "   ['hold the door open for the driver',\n",
       "    'They want to hold the door open for the driver']],\n",
       "  [0.4726901054382324,\n",
       "   ['drive away from the cop', 'They want to drive away from the cop']],\n",
       "  [0.4721030592918396,\n",
       "   ['get out of the police cruisers',\n",
       "    'They want to get out of the police cruisers']],\n",
       "  [0.47133582830429077,\n",
       "   ['go out front and hail a taxi',\n",
       "    'They want to go out front and hail a taxi']],\n",
       "  [0.46503564715385437,\n",
       "   ['wait for the driver to exit the truch',\n",
       "    'They want to wait for the driver to exit the truch']],\n",
       "  [0.46440133452415466,\n",
       "   ['pull up to the gate at the airport',\n",
       "    'They want to pull up to the gate at the airport']],\n",
       "  [0.46363967657089233,\n",
       "   ['hold the doors open to allow a vehicle to pass',\n",
       "    'They want to hold the doors open to allow a vehicle to pass']],\n",
       "  [0.463583379983902,\n",
       "   ['hail a cab in moscow', 'They want to hail a cab in moscow']],\n",
       "  [0.46131280064582825,\n",
       "   ['push through the police barricade',\n",
       "    'They want to push through the police barricade']],\n",
       "  [0.46019884943962097,\n",
       "   ['stop the police car', 'They want to stop the police car']],\n",
       "  [0.4597426652908325,\n",
       "   ['tell the taxi to take off', 'They want to tell the taxi to take off']],\n",
       "  [0.45960816740989685,\n",
       "   ['head towards the street to hail a taxi',\n",
       "    'They want to head towards the street to hail a taxi']]],\n",
       " 'movie': 'Movies/92363218',\n",
       " 'url_link': 'http://ec2-3-120-189-231.eu-central-1.compute.amazonaws.com:7000/static/datadriven/actionclipautoautotrain00680.mp4'}"
      ]
     },
     "execution_count": 10,
     "metadata": {},
     "output_type": "execute_result"
    }
   ],
   "source": [
    "c[0]"
   ]
  },
  {
   "cell_type": "code",
   "execution_count": 11,
   "id": "9188b732-bcb2-4374-9014-9e7159ea3085",
   "metadata": {},
   "outputs": [],
   "source": [
    "def range_get_val_for_frame(frame,val,data):\n",
    "    return [x[val] for x in data if x['start']<=frame and x['stop']>frame]\n",
    "def tracker_get_box_for_frame(frame,data):\n",
    "    return [x['bboxes'][str(frame)] for x in data if x['start']<=frame and x['stop']>frame]\n",
    "def step_get_val_for_frame(frame, val,data):\n",
    "    return [x[val] for x in data if int(x['frame_id'])==frame]"
   ]
  },
  {
   "cell_type": "code",
   "execution_count": 12,
   "id": "a3f65249-64b5-4a6c-ab9f-d7799c04df7d",
   "metadata": {},
   "outputs": [],
   "source": [
    "def normalize_movie(mid):\n",
    "    action_data = nre.get_all_expert_data(\"Actions\", mid)\n",
    "    object_data = nre.get_all_expert_data(\"Object\", mid)\n",
    "    clip_data = nre.get_clip_data(mid)\n",
    "    vcomet_data = nre.get_vcomet_data(mid)\n",
    "    movie_info = api.get_movie_info(mid)\n",
    "    frame_array = []\n",
    "    for i in range(movie_info['last frame']):\n",
    "        scene_element_val = range_get_val_for_frame(i,'scene_element', object_data)        \n",
    "        frame_data = {'arango_id': mid, 'frame_id': i, \n",
    "                      'step_actor_id': step_get_val_for_frame(i, 'actor_id', action_data),\n",
    "                      'step_description': step_get_val_for_frame(i, 'description', action_data),\n",
    "                      'step_box': step_get_val_for_frame(i,'box', action_data),\n",
    "                      'tracker_description': range_get_val_for_frame(i, 'description', object_data),\n",
    "                      'scene_element': scene_element_val[0] if scene_element_val else None,\n",
    "                      'tracker_box': tracker_get_box_for_frame(i, object_data) }                          \n",
    "        scene = frame_data['scene_element']\n",
    "        # Verify with dima what is order of scene in clip vs vcomet\n",
    "        frame_data['clip_text'] = None\n",
    "        frame_data['clip_triplets'] = None\n",
    "        frame_data['vcomet_places'] = None\n",
    "        frame_data['vcomet_events'] = None\n",
    "        frame_data['vcomet_actions'] = None\n",
    "        if scene is not None:\n",
    "            frame_data['clip_text'] = clip_data[scene][0]\n",
    "            frame_data['clip_triplets'] = clip_data[scene][1]\n",
    "            frame_data['vcomet_places'] = range_get_val_for_frame(i,'places',vcomet_data)\n",
    "            frame_data['vcomet_events'] = range_get_val_for_frame(i,'events',vcomet_data)\n",
    "            frame_data['vcomet_actions'] = range_get_val_for_frame(i,'actions',vcomet_data)                    \n",
    "        frame_array.append(frame_data)\n",
    "    return frame_array                                         "
   ]
  },
  {
   "cell_type": "code",
   "execution_count": 21,
   "id": "025957a4-e0f6-4dcb-91f6-219db651c059",
   "metadata": {},
   "outputs": [],
   "source": [
    "def create_normalized_frame(frame):     \n",
    "    query = 'UPSERT { arango_id: @arango_id, \\\n",
    "                                frame_id: @frame_id}\\\n",
    "            INSERT  \\\n",
    "                { arango_id: @arango_id, frame_id: @frame_id, step_actor_id: @step_actor_id, step_description: @step_description,  \\\n",
    "                  step_box: @step_box, tracker_description: @tracker_description, tracker_box: @tracker_box, scene_element: @scene_element, \\\n",
    "                  clip_text: @clip_text, clip_triplets: @clip_triplets, vcomet_places: @vcomet_places, vcomet_events: @vcomet_events, vcomet_actions: @vcomet_actions, \\\n",
    "                  updates: 1}\\\n",
    "            UPDATE \\\n",
    "                { updates: OLD.updates + 1, step_actor_id: @step_actor_id, step_description: @step_description,  \\\n",
    "                  step_box: @step_box, tracker_description: @tracker_description, tracker_box: @tracker_box, scene_element: @scene_element, \\\n",
    "                  clip_text: @clip_text, clip_triplets: @clip_triplets, vcomet_places: @vcomet_places, vcomet_events: @vcomet_events, vcomet_actions: @vcomet_actions} IN normalized_frames \\\n",
    "                    RETURN { doc: NEW, type: OLD ? \\'update\\' : \\'insert\\' }'       \n",
    "    api.db.aql.execute(query, bind_vars=frame)"
   ]
  },
  {
   "cell_type": "code",
   "execution_count": 40,
   "id": "d281f422-7812-4771-83e2-c21f2b97f3f1",
   "metadata": {},
   "outputs": [],
   "source": [
    "def get_normalized_frame(mid, frame):\n",
    "    query = \"FOR doc IN normalized_frames FILTER doc.arango_id == '{}' AND doc.frame_id == {} RETURN doc\".format(mid,frame)\n",
    "    print(query)\n",
    "    cur = list(api.db.aql.execute(query))\n",
    "    if cur:\n",
    "        return cur[0]    # We only have one normalized frame (?)"
   ]
  },
  {
   "cell_type": "code",
   "execution_count": 46,
   "id": "f7e707a4-122d-4dc6-bcaa-87802c739582",
   "metadata": {},
   "outputs": [],
   "source": [
    "def get_normalized_range(mid, start, stop):\n",
    "    query = \"FOR doc IN normalized_frames FILTER doc.arango_id == '{}' AND doc.frame_id >= {} AND doc.frame_id < {} RETURN doc\".format(mid,start,stop)\n",
    "    return list(api.db.aql.execute(query))    "
   ]
  },
  {
   "cell_type": "code",
   "execution_count": 51,
   "id": "e6968aee-8d5c-4a40-8b17-f449048d70c3",
   "metadata": {},
   "outputs": [],
   "source": [
    "def get_normalized_scene(mid, scene):\n",
    "    query = \"FOR doc IN normalized_frames FILTER doc.arango_id == '{}' AND doc.scene_element == {} RETURN doc\".format(mid,scene)\n",
    "    return list(api.db.aql.execute(query))        "
   ]
  },
  {
   "cell_type": "code",
   "execution_count": 42,
   "id": "e3f5f572-597e-44d0-9cca-a355ea903771",
   "metadata": {},
   "outputs": [],
   "source": [
    "a = normalize_movie(mid)"
   ]
  },
  {
   "cell_type": "code",
   "execution_count": 52,
   "id": "880fef6b-f8e3-4029-ad72-a4da44a5011f",
   "metadata": {},
   "outputs": [],
   "source": [
    "bla = get_normalized_scene(mid,1)"
   ]
  },
  {
   "cell_type": "code",
   "execution_count": 54,
   "id": "fd95a7b5-f339-4e4d-b3a2-6df3f23367c5",
   "metadata": {},
   "outputs": [
    {
     "data": {
      "text/plain": [
       "44"
      ]
     },
     "execution_count": 54,
     "metadata": {},
     "output_type": "execute_result"
    }
   ],
   "source": [
    "bla[-1]['frame_id']"
   ]
  },
  {
   "cell_type": "code",
   "execution_count": 29,
   "id": "7a4b2403-da66-462f-97eb-de4d37e37d75",
   "metadata": {},
   "outputs": [
    {
     "data": {
      "text/plain": [
       "[[[0.37902727723121643, \"in a limo driver's car\"],\n",
       "  [0.3553829491138458, 'in the police car'],\n",
       "  [0.34957408905029297, \"in 1's car\"],\n",
       "  [0.3299831748008728, 'in a police car']]]"
      ]
     },
     "execution_count": 29,
     "metadata": {},
     "output_type": "execute_result"
    }
   ],
   "source": [
    "a[84]['vcomet_places']"
   ]
  },
  {
   "cell_type": "code",
   "execution_count": 84,
   "id": "631ed519-0c28-4116-835f-090f311e2b54",
   "metadata": {},
   "outputs": [
    {
     "data": {
      "text/plain": [
       "{'_key': '112457692',\n",
       " '_id': 'Nodes/112457692',\n",
       " '_rev': '_dBXv_ti---',\n",
       " 'movie_id': 'cfe6da21c345473aa918ecb086a5d34c',\n",
       " 'arango_id': 'Movies/92363218',\n",
       " 'actor_id': None,\n",
       " 'description': 'sit',\n",
       " 'frame_id': '3',\n",
       " 'class': 'Actions',\n",
       " 'confidence': 0.8480625152587891,\n",
       " 'updates': 1,\n",
       " 'box': [0.4715381860733032,\n",
       "  0.318683922290802,\n",
       "  0.6713241338729858,\n",
       "  0.6051863431930542]}"
      ]
     },
     "execution_count": 84,
     "metadata": {},
     "output_type": "execute_result"
    }
   ],
   "source": [
    "action_data[5]"
   ]
  },
  {
   "cell_type": "code",
   "execution_count": 22,
   "id": "df0e9901-0b0b-4344-b8c9-153530975bf4",
   "metadata": {},
   "outputs": [
    {
     "data": {
      "text/plain": [
       "{'arango_id': 'Movies/92363218',\n",
       " 'description': 'actionclipautoautotrain00680',\n",
       " 'fps': 25,\n",
       " 'width': 592,\n",
       " 'height': 320,\n",
       " 'last frame': 300,\n",
       " 'movie_id': 'cfe6da21c345473aa918ecb086a5d34c'}"
      ]
     },
     "execution_count": 22,
     "metadata": {},
     "output_type": "execute_result"
    }
   ],
   "source": [
    "movie_info"
   ]
  },
  {
   "cell_type": "code",
   "execution_count": 87,
   "id": "a5b11d97-1bd4-4cde-ab33-5bc3f5ed7a35",
   "metadata": {},
   "outputs": [
    {
     "data": {
      "text/plain": [
       "{'_key': '111197012',\n",
       " '_id': 'Nodes/111197012',\n",
       " '_rev': '_dBaFoMS---',\n",
       " 'movie_id': 'cfe6da21c345473aa918ecb086a5d34c',\n",
       " 'arango_id': 'Movies/92363218',\n",
       " 'class': 'Object',\n",
       " 'description': 'person0',\n",
       " 'scores': {'0': 0.9361950159072876,\n",
       "  '1': 0.9361950159072876,\n",
       "  '2': 0.9361950159072876,\n",
       "  '3': 0.9361950159072876,\n",
       "  '4': 0.9361950159072876,\n",
       "  '5': 0.9361950159072876,\n",
       "  '6': 0.9361950159072876,\n",
       "  '7': 0.9361950159072876,\n",
       "  '8': 0.9361950159072876,\n",
       "  '9': 0.9361950159072876,\n",
       "  '10': 0.9986812472343445,\n",
       "  '11': 0.9986812472343445,\n",
       "  '12': 0.9986812472343445,\n",
       "  '13': 0.9986812472343445,\n",
       "  '14': 0.9986812472343445,\n",
       "  '15': 0.9986812472343445,\n",
       "  '16': 0.9986812472343445,\n",
       "  '17': 0.9986812472343445,\n",
       "  '18': 0.9986812472343445,\n",
       "  '19': 0.9986812472343445,\n",
       "  '20': 0.9977164268493652,\n",
       "  '21': 0.9977164268493652,\n",
       "  '22': 0.9977164268493652,\n",
       "  '23': 0.9977164268493652,\n",
       "  '24': 0.9977164268493652,\n",
       "  '25': 0.9977164268493652,\n",
       "  '26': 0.9977164268493652,\n",
       "  '27': 0.9977164268493652,\n",
       "  '28': 0.9977164268493652,\n",
       "  '29': 0.9977164268493652,\n",
       "  '30': 0.995498538017273,\n",
       "  '31': 0.995498538017273,\n",
       "  '32': 0.995498538017273,\n",
       "  '33': 0.995498538017273,\n",
       "  '34': 0.995498538017273,\n",
       "  '35': 0.995498538017273,\n",
       "  '36': 0.995498538017273,\n",
       "  '37': 0.995498538017273,\n",
       "  '38': 0.995498538017273,\n",
       "  '39': 0.995498538017273},\n",
       " 'bboxes': {'0': [302, 49, 395, 140],\n",
       "  '1': [302, 49, 395, 140],\n",
       "  '2': [303, 64, 396, 155],\n",
       "  '3': [306, 75, 399, 166],\n",
       "  '4': [309, 84, 402, 175],\n",
       "  '5': [310, 89, 403, 180],\n",
       "  '6': [311, 92, 404, 183],\n",
       "  '7': [310, 91, 403, 182],\n",
       "  '8': [307, 88, 400, 179],\n",
       "  '9': [306, 83, 399, 174],\n",
       "  '10': [303, 78, 396, 169],\n",
       "  '11': [300, 73, 393, 164],\n",
       "  '12': [299, 68, 392, 159],\n",
       "  '13': [300, 65, 393, 156],\n",
       "  '14': [301, 62, 394, 153],\n",
       "  '15': [306, 63, 399, 154],\n",
       "  '16': [309, 62, 402, 153],\n",
       "  '17': [314, 65, 407, 156],\n",
       "  '18': [319, 66, 412, 157],\n",
       "  '19': [326, 67, 419, 158],\n",
       "  '20': [331, 66, 424, 157],\n",
       "  '21': [340, 67, 433, 158],\n",
       "  '22': [345, 64, 438, 155],\n",
       "  '23': [352, 63, 445, 154],\n",
       "  '24': [355, 60, 448, 151],\n",
       "  '25': [360, 59, 453, 150],\n",
       "  '26': [363, 56, 456, 147],\n",
       "  '27': [366, 53, 459, 144],\n",
       "  '28': [367, 50, 460, 141],\n",
       "  '29': [370, 49, 463, 140],\n",
       "  '30': [371, 48, 464, 139],\n",
       "  '31': [372, 47, 465, 138],\n",
       "  '32': [371, 46, 464, 137],\n",
       "  '33': [372, 43, 465, 134],\n",
       "  '34': [373, 42, 466, 133],\n",
       "  '35': [376, 39, 469, 130],\n",
       "  '36': [375, 36, 468, 127],\n",
       "  '37': [376, 35, 469, 126],\n",
       "  '38': [377, 34, 470, 125],\n",
       "  '39': [378, 35, 471, 126]},\n",
       " 'scene_element': 1,\n",
       " 'start': 25,\n",
       " 'stop': 40,\n",
       " 'step': 3}"
      ]
     },
     "execution_count": 87,
     "metadata": {},
     "output_type": "execute_result"
    }
   ],
   "source": [
    "object_data[0]"
   ]
  },
  {
   "cell_type": "code",
   "execution_count": 58,
   "id": "c89b4418-79e4-4a59-82a5-0f9ff9d7e93c",
   "metadata": {},
   "outputs": [
    {
     "data": {
      "text/plain": [
       "(14, 14)"
      ]
     },
     "execution_count": 58,
     "metadata": {},
     "output_type": "execute_result"
    }
   ],
   "source": [
    "len(tracker_get_val_for_frame(44,'description')), len(tracker_get_box_for_frame(44))"
   ]
  },
  {
   "cell_type": "code",
   "execution_count": 13,
   "id": "c1e32475-b304-4d67-8fff-d2d119581f5f",
   "metadata": {},
   "outputs": [
    {
     "data": {
      "text/plain": [
       "False"
      ]
     },
     "execution_count": 13,
     "metadata": {},
     "output_type": "execute_result"
    }
   ],
   "source": [
    "api.get_expert_status(\"Actions\",'movies')"
   ]
  },
  {
   "cell_type": "code",
   "execution_count": 13,
   "id": "631abe75-8ffa-41f5-ba8d-45cbca9b51c8",
   "metadata": {},
   "outputs": [
    {
     "data": {
      "text/plain": [
       "<StandardCollection giltest>"
      ]
     },
     "execution_count": 13,
     "metadata": {},
     "output_type": "execute_result"
    }
   ],
   "source": [
    "api.db.create_collection(\"giltest\")"
   ]
  },
  {
   "cell_type": "code",
   "execution_count": 16,
   "id": "79f88563-446a-4131-9159-fbfaf654d6e6",
   "metadata": {},
   "outputs": [
    {
     "name": "stdout",
     "output_type": "stream",
     "text": [
      "Updating global version\n"
     ]
    }
   ],
   "source": [
    "nre.force_start_expert(\"Actions\")"
   ]
  },
  {
   "cell_type": "code",
   "execution_count": 23,
   "id": "51f68a44-ddb8-48fc-a7ba-f11669cf0724",
   "metadata": {},
   "outputs": [],
   "source": [
    "new_movies = api.get_new_movies()\n",
    "for x in new_movies[1:]:\n",
    "    api.change_status_movie('updated', x)"
   ]
  },
  {
   "cell_type": "code",
   "execution_count": 24,
   "id": "025107f4-76d4-4649-970a-2423b53e1257",
   "metadata": {},
   "outputs": [
    {
     "data": {
      "text/plain": [
       "['Movies/114206264']"
      ]
     },
     "execution_count": 24,
     "metadata": {},
     "output_type": "execute_result"
    }
   ],
   "source": [
    "api.get_new_movies()"
   ]
  },
  {
   "cell_type": "code",
   "execution_count": null,
   "id": "c685ea8b-2c05-4dc8-bb3d-121c6e424136",
   "metadata": {},
   "outputs": [],
   "source": []
  }
 ],
 "metadata": {
  "kernelspec": {
   "display_name": "Python [conda env:root] *",
   "language": "python",
   "name": "conda-root-py"
  },
  "language_info": {
   "codemirror_mode": {
    "name": "ipython",
    "version": 3
   },
   "file_extension": ".py",
   "mimetype": "text/x-python",
   "name": "python",
   "nbconvert_exporter": "python",
   "pygments_lexer": "ipython3",
   "version": "3.9.7"
  }
 },
 "nbformat": 4,
 "nbformat_minor": 5
}
