{
 "cells": [
  {
   "cell_type": "code",
   "execution_count": 1,
   "id": "dd4422f0-1ada-4324-8173-2fb89a605b7a",
   "metadata": {},
   "outputs": [],
   "source": [
    "import sys\n",
    "import os\n",
    "import math\n",
    "import random\n",
    "import bisect\n",
    "import numpy as np\n",
    "import pandas as pd\n",
    "import matplotlib.pyplot as plt\n",
    "import seaborn as sns\n",
    "import urllib\n",
    "import subprocess\n",
    "import re\n",
    "import tempfile\n",
    "import itertools\n",
    "import torch\n",
    "\n",
    "from typing import List, Tuple\n",
    "from operator import itemgetter \n",
    "# import qgrid"
   ]
  },
  {
   "cell_type": "code",
   "execution_count": 2,
   "id": "c79742a6-1df7-40ae-aec8-c3a3960e81e5",
   "metadata": {},
   "outputs": [],
   "source": [
    "BASE_DIR = os.path.abspath(os.getcwd()+'/../..')  # /home/gil/dev/NEBULA2/\n",
    "os.chdir(os.getcwd()+'/../..')"
   ]
  },
  {
   "cell_type": "code",
   "execution_count": 3,
   "id": "41181f5b-01c9-4ff4-82bf-8819720dc6d7",
   "metadata": {},
   "outputs": [],
   "source": [
    "from nebula_api.nebula_enrichment_api import *\n",
    "from experts.common.RemoteAPIUtility import RemoteAPIUtility\n",
    "# from nebula_api.mdmmt_api import mdmmt_api\n",
    "from nebula_api.vlmapi import VLM_API"
   ]
  },
  {
   "cell_type": "code",
   "execution_count": 4,
   "id": "ea9fe9d6-598c-499a-b08f-b548dcc3fdbf",
   "metadata": {},
   "outputs": [],
   "source": [
    "import nebula_api.playground_api as pg_api"
   ]
  },
  {
   "cell_type": "code",
   "execution_count": 5,
   "id": "dddd9364-8b09-4c79-9fdc-e9329d40e5f8",
   "metadata": {},
   "outputs": [
    {
     "name": "stdout",
     "output_type": "stream",
     "text": [
      "['RN50', 'RN101', 'RN50x4', 'RN50x16', 'RN50x64', 'ViT-B/32', 'ViT-B/16', 'ViT-L/14']\n",
      "['RN50', 'RN101', 'RN50x4', 'RN50x16', 'RN50x64', 'ViT-B/32', 'ViT-B/16', 'ViT-L/14']\n",
      "Milvus Collection Loaded:  vcomet_mdmmt_embedded_event\n",
      "Milvus Collection Loaded:  vcomet_mdmmt_embedded_place\n",
      "Milvus Collection Loaded:  vcomet_mdmmt_embedded_actions\n",
      "INFO:tensorflow:Restoring parameters from /app/NEBULA2/nebula_api/mdmmt_api/ckpts/vggish_model.ckpt\n"
     ]
    },
    {
     "name": "stderr",
     "output_type": "stream",
     "text": [
      "Some weights of the model checkpoint at bert-base-cased were not used when initializing BertModel: ['cls.predictions.decoder.weight', 'cls.predictions.transform.LayerNorm.weight', 'cls.predictions.transform.dense.weight', 'cls.seq_relationship.bias', 'cls.predictions.transform.dense.bias', 'cls.seq_relationship.weight', 'cls.predictions.transform.LayerNorm.bias', 'cls.predictions.bias']\n",
      "- This IS expected if you are initializing BertModel from the checkpoint of a model trained on another task or with another architecture (e.g. initializing a BertForSequenceClassification model from a BertForPreTraining model).\n",
      "- This IS NOT expected if you are initializing BertModel from the checkpoint of a model that you expect to be exactly identical (initializing a BertForSequenceClassification model from a BertForSequenceClassification model).\n",
      "Some weights of the model checkpoint at bert-base-cased were not used when initializing BertModel: ['cls.predictions.decoder.weight', 'cls.predictions.transform.LayerNorm.weight', 'cls.predictions.transform.dense.weight', 'cls.seq_relationship.bias', 'cls.predictions.transform.dense.bias', 'cls.seq_relationship.weight', 'cls.predictions.transform.LayerNorm.bias', 'cls.predictions.bias']\n",
      "- This IS expected if you are initializing BertModel from the checkpoint of a model trained on another task or with another architecture (e.g. initializing a BertForSequenceClassification model from a BertForPreTraining model).\n",
      "- This IS NOT expected if you are initializing BertModel from the checkpoint of a model that you expect to be exactly identical (initializing a BertForSequenceClassification model from a BertForSequenceClassification model).\n"
     ]
    },
    {
     "name": "stdout",
     "output_type": "stream",
     "text": [
      "INFO:tensorflow:Restoring parameters from /app/NEBULA2/nebula_api/mdmmt_api/ckpts/vggish_model.ckpt\n"
     ]
    },
    {
     "name": "stderr",
     "output_type": "stream",
     "text": [
      "Some weights of the model checkpoint at bert-base-cased were not used when initializing BertModel: ['cls.predictions.decoder.weight', 'cls.predictions.transform.LayerNorm.weight', 'cls.predictions.transform.dense.weight', 'cls.seq_relationship.bias', 'cls.predictions.transform.dense.bias', 'cls.seq_relationship.weight', 'cls.predictions.transform.LayerNorm.bias', 'cls.predictions.bias']\n",
      "- This IS expected if you are initializing BertModel from the checkpoint of a model trained on another task or with another architecture (e.g. initializing a BertForSequenceClassification model from a BertForPreTraining model).\n",
      "- This IS NOT expected if you are initializing BertModel from the checkpoint of a model that you expect to be exactly identical (initializing a BertForSequenceClassification model from a BertForSequenceClassification model).\n",
      "Some weights of the model checkpoint at bert-base-cased were not used when initializing BertModel: ['cls.predictions.decoder.weight', 'cls.predictions.transform.LayerNorm.weight', 'cls.predictions.transform.dense.weight', 'cls.seq_relationship.bias', 'cls.predictions.transform.dense.bias', 'cls.seq_relationship.weight', 'cls.predictions.transform.LayerNorm.bias', 'cls.predictions.bias']\n",
      "- This IS expected if you are initializing BertModel from the checkpoint of a model trained on another task or with another architecture (e.g. initializing a BertForSequenceClassification model from a BertForPreTraining model).\n",
      "- This IS NOT expected if you are initializing BertModel from the checkpoint of a model that you expect to be exactly identical (initializing a BertForSequenceClassification model from a BertForSequenceClassification model).\n"
     ]
    },
    {
     "name": "stdout",
     "output_type": "stream",
     "text": [
      "Available class names: ['clip_vit', 'clip_rn', 'mdmmt_max', 'mdmmt_mean', 'mdmmt_legacy']\n"
     ]
    }
   ],
   "source": [
    "nre = NRE_API()\n",
    "api = RemoteAPIUtility()\n",
    "# mdmmt = mdmmt_api.MDMMT_API()\n",
    "vlm = VLM_API()"
   ]
  },
  {
   "cell_type": "code",
   "execution_count": 6,
   "id": "55d41d6c-8e37-4375-a16c-e5a683b5e206",
   "metadata": {},
   "outputs": [],
   "source": [
    "def get_vlmtest_data_from_db():\n",
    "    results = []\n",
    "    query = '''FOR doc IN nebula_lsmdc_groundtruth\n",
    "               COLLECT mid = doc.movie_id, elem = doc.scene_element INTO groups = [doc.sentence, doc.quality]\n",
    "                RETURN { \n",
    "                    \"name\": CONCAT_SEPARATOR(\"_\",mid,elem),\n",
    "                    \"mid\": mid,\n",
    "                    \"elem\": elem,\n",
    "                    \"sentences\": groups\n",
    "                }'''\n",
    "    cursor = nre.db.aql.execute(query)\n",
    "    for doc in cursor:\n",
    "        results.append(doc)\n",
    "    return (results)\n",
    "\n",
    "def compute_batch_scores(video_emb: torch.Tensor, texts: List[str], normalize=True, **kwargs) -> List[float]:    \n",
    "    emb_batch = vlm.encode_text(texts, **kwargs)\n",
    "    if type(emb_batch) == list:\n",
    "        emb_batch = torch.stack(emb_batch,axis=0)\n",
    "    if normalize:\n",
    "        video_emb = video_emb / video_emb.norm(2)\n",
    "        # print(\"normalized video norm: {}\".format(video_emb.norm(2)))\n",
    "        n = (emb_batch * emb_batch).sum(axis=1).sqrt()\n",
    "        emb_batch = emb_batch / n.unsqueeze(1).expand_as(emb_batch)\n",
    "        # print(\"normalized text norms:\")\n",
    "        # for emb in emb_batch:\n",
    "        #     print(emb.norm(2))                        \n",
    "    return (video_emb.unsqueeze(0).expand_as(emb_batch)*emb_batch).sum(dim=1).cpu().numpy()\n",
    "\n",
    "def get_movie_url(mid):\n",
    "    query = 'FOR doc IN Movies FILTER doc._id == \"{}\" RETURN doc'.format(mid)\n",
    "    cursor = api.db.aql.execute(query)\n",
    "    url_prefix = \"http://ec2-18-159-140-240.eu-central-1.compute.amazonaws.com:7000/\"\n",
    "    url_link = ''\n",
    "    for doc in cursor:\n",
    "        url_link = url_prefix+doc['url_path']\n",
    "        url_link = url_link.replace(\".avi\", \".mp4\")   \n",
    "    return url_link\n",
    "\n",
    "\n",
    "def plot_index(i,df1, s=70):\n",
    "    elem = all_elems[i]\n",
    "    mid = all_movies[i]\n",
    "    info = api.get_movie_info(mid)\n",
    "    title = info['description']\n",
    "    df = df1.loc[all_names[i],:,:]\n",
    "    print(get_movie_url(mid))\n",
    "    print([(j+1,x) for (j,x) in enumerate(all_sentences[i])])\n",
    "    plt.figure(figsize=(40, 18))\n",
    "    plt.ylim(0,0.5)\n",
    "    sns.scatterplot(data = df.reset_index(), x = 'index', y = 'actual', hue='golden', style='vlm_type',s=s,\n",
    "               palette={1:'r', 2:'b', 3:'g'}).set(title=\"{}/{} - {}\".format(mid,elem,title))\n"
   ]
  },
  {
   "cell_type": "code",
   "execution_count": 7,
   "id": "f58906fc-726a-4d3b-95f1-3e4c0675871a",
   "metadata": {},
   "outputs": [],
   "source": [
    "vlm_types = ['mdmmt_legacy', 'mdmmt_max', 'mdmmt_mean']"
   ]
  },
  {
   "cell_type": "code",
   "execution_count": 8,
   "id": "378e06b1-22cc-4221-a7c7-d535f0d1b6a9",
   "metadata": {},
   "outputs": [],
   "source": [
    "data = get_vlmtest_data_from_db()"
   ]
  },
  {
   "cell_type": "code",
   "execution_count": 18,
   "id": "e41506f1-188f-4d0f-89e7-4e22a887f116",
   "metadata": {},
   "outputs": [],
   "source": [
    "all_names = []\n",
    "all_movies = []\n",
    "all_elems = []\n",
    "all_goldens = []\n",
    "all_sentences = []\n",
    "for i,d in enumerate(data):\n",
    "    if i not in [4,6,7,9,10]:      # 6 has 1 sentence, others are too short\n",
    "        all_names.append(d['name'])\n",
    "        all_movies.append(d['mid'])\n",
    "        all_elems.append(d['elem'])\n",
    "        sentences = list(zip(*sorted(d['sentences'], key=lambda x: -x[1])))\n",
    "        all_sentences.append(sentences[0])\n",
    "        all_goldens.append(sentences[1])"
   ]
  },
  {
   "cell_type": "code",
   "execution_count": 19,
   "id": "ed766859-0d7f-4fc9-9f31-9345f5d5976d",
   "metadata": {},
   "outputs": [],
   "source": [
    "a = np.expand_dims(np.array(all_goldens),1)\n",
    "newshape = list(a.shape)\n",
    "newshape[1]=len(vlm_types)\n",
    "goldens = np.broadcast_to(a,newshape)"
   ]
  },
  {
   "cell_type": "code",
   "execution_count": 20,
   "id": "0e424fa8-99b8-4920-95f6-0601ae09bfd1",
   "metadata": {},
   "outputs": [
    {
     "ename": "ValueError",
     "evalue": "'Movies/114207908_1' is not in list",
     "output_type": "error",
     "traceback": [
      "\u001b[0;31m---------------------------------------------------------------------------\u001b[0m",
      "\u001b[0;31mValueError\u001b[0m                                Traceback (most recent call last)",
      "\u001b[0;32m/tmp/ipykernel_75/2893052159.py\u001b[0m in \u001b[0;36m<module>\u001b[0;34m\u001b[0m\n\u001b[1;32m     18\u001b[0m \u001b[0;34m\u001b[0m\u001b[0m\n\u001b[1;32m     19\u001b[0m \u001b[0;31m# (video_emb*video_emb).sum().sqrt()\u001b[0m\u001b[0;34m\u001b[0m\u001b[0;34m\u001b[0m\u001b[0m\n\u001b[0;32m---> 20\u001b[0;31m \u001b[0mall_names\u001b[0m\u001b[0;34m.\u001b[0m\u001b[0mindex\u001b[0m\u001b[0;34m(\u001b[0m\u001b[0;34m'Movies/114207908_1'\u001b[0m\u001b[0;34m)\u001b[0m\u001b[0;34m\u001b[0m\u001b[0;34m\u001b[0m\u001b[0m\n\u001b[0m\u001b[1;32m     21\u001b[0m \u001b[0;34m[\u001b[0m\u001b[0mx\u001b[0m\u001b[0;34m[\u001b[0m\u001b[0;34m'name'\u001b[0m\u001b[0;34m]\u001b[0m \u001b[0;32mfor\u001b[0m \u001b[0mx\u001b[0m \u001b[0;32min\u001b[0m \u001b[0mdata\u001b[0m\u001b[0;34m]\u001b[0m\u001b[0;34m.\u001b[0m\u001b[0mindex\u001b[0m\u001b[0;34m(\u001b[0m\u001b[0;34m'Movies/114207908_1'\u001b[0m\u001b[0;34m)\u001b[0m\u001b[0;34m\u001b[0m\u001b[0;34m\u001b[0m\u001b[0m\n",
      "\u001b[0;31mValueError\u001b[0m: 'Movies/114207908_1' is not in list"
     ]
    }
   ],
   "source": [
    "# mid = all_movies[2]\n",
    "# elem = all_elems[2]\n",
    "# s = all_sentences[2]\n",
    "# encoding_method = vlm_types[0]\n",
    "# video_emb = vlm.encode_video(mid,elem,class_name=encoding_method).squeeze().cuda()\n",
    "# # text_emb = vlm.encode_text([s], class_name=encoding_method)\n",
    "\n",
    "# emb_batch = vlm.encode_text(s,class_name=encoding_method)\n",
    "# if type(emb_batch) == list:\n",
    "#         emb_batch = torch.stack(emb_batch,axis=0)\n",
    "\n",
    "# n = (emb_batch * emb_batch).sum(axis=1).sqrt()\n",
    "# n.unsqueeze(1).expand_as(emb_batch)[6]\n",
    "\n",
    "# compute_batch_scores(video_emb,s, normalize=True, class_name=encoding_method)\n",
    "\n",
    "# df1.loc[all_names[2],encoding_method,:]\n",
    "\n",
    "# (video_emb*video_emb).sum().sqrt()\n",
    "# [x['name'] for x in data].index('Movies/114207908_1')"
   ]
  },
  {
   "cell_type": "code",
   "execution_count": 21,
   "id": "132d4299-d826-48b6-aa9d-e1d08c865bf0",
   "metadata": {},
   "outputs": [
    {
     "name": "stdout",
     "output_type": "stream",
     "text": [
      "Trying to compute embedding for movie Movies/114206337, element 0, class mdmmt_legacy\n",
      "http://ec2-18-159-140-240.eu-central-1.compute.amazonaws.com:7000/static/development/1015_27_Dresses_00_38_02_757-00_38_08_213.mp4\n",
      "Movie info: {'arango_id': 'Movies/114206337', 'description': '1015_27_Dresses_00_38_02_757-00_38_08_213', 'fps': 23, 'width': 1920, 'height': 1080, 'last frame': 300, 'movie_id': 'f5ebaf4686c547a0bd8bc3859933a091', 'mdfs': [[2, 36, 71], [75, 100, 125], [129, 129, 129]], 'scene_elements': [[0, 73], [73, 127], [127, 131]]}\n",
      "fn path: /tmp/video_file.mp4\n",
      "Trying to compute embedding for movie Movies/114206337, element 1, class mdmmt_legacy\n",
      "http://ec2-18-159-140-240.eu-central-1.compute.amazonaws.com:7000/static/development/1015_27_Dresses_00_38_02_757-00_38_08_213.mp4\n",
      "Movie info: {'arango_id': 'Movies/114206337', 'description': '1015_27_Dresses_00_38_02_757-00_38_08_213', 'fps': 23, 'width': 1920, 'height': 1080, 'last frame': 300, 'movie_id': 'f5ebaf4686c547a0bd8bc3859933a091', 'mdfs': [[2, 36, 71], [75, 100, 125], [129, 129, 129]], 'scene_elements': [[0, 73], [73, 127], [127, 131]]}\n",
      "fn path: /tmp/video_file.mp4\n",
      "Trying to compute embedding for movie Movies/114206548, element 0, class mdmmt_legacy\n",
      "http://ec2-18-159-140-240.eu-central-1.compute.amazonaws.com:7000/static/development/0001_American_Beauty_01_45_48_324-01_46_01_008.mp4\n",
      "Movie info: {'arango_id': 'Movies/114206548', 'description': '0001_American_Beauty_01_45_48_324-01_46_01_008', 'fps': 23, 'width': 1920, 'height': 1080, 'last frame': 300, 'movie_id': '6f4eb9e910634e3da53707fb3362d44a', 'mdfs': [[2, 16, 30], [34, 168, 302], [306, 304, 303]], 'scene_elements': [[0, 32], [32, 304], [304, 305]]}\n",
      "fn path: /tmp/video_file.mp4\n",
      "Trying to compute embedding for movie Movies/114206548, element 1, class mdmmt_legacy\n",
      "http://ec2-18-159-140-240.eu-central-1.compute.amazonaws.com:7000/static/development/0001_American_Beauty_01_45_48_324-01_46_01_008.mp4\n",
      "Movie info: {'arango_id': 'Movies/114206548', 'description': '0001_American_Beauty_01_45_48_324-01_46_01_008', 'fps': 23, 'width': 1920, 'height': 1080, 'last frame': 300, 'movie_id': '6f4eb9e910634e3da53707fb3362d44a', 'mdfs': [[2, 16, 30], [34, 168, 302], [306, 304, 303]], 'scene_elements': [[0, 32], [32, 304], [304, 305]]}\n",
      "fn path: /tmp/video_file.mp4\n",
      "Trying to compute embedding for movie Movies/114206952, element 1, class mdmmt_legacy\n",
      "http://ec2-18-159-140-240.eu-central-1.compute.amazonaws.com:7000/static/development/1031_Quantum_of_Solace_00_39_09_510-00_39_14_286.mp4\n",
      "Movie info: {'arango_id': 'Movies/114206952', 'description': '1031_Quantum_of_Solace_00_39_09_510-00_39_14_286', 'fps': 23, 'width': 1920, 'height': 1080, 'last frame': 300, 'movie_id': '6910d4ae51ee4a83a3586c1ea9f16b0e', 'mdfs': [[2, 7, 13], [17, 32, 47], [51, 73, 95], [99, 106, 113]], 'scene_elements': [[0, 15], [15, 49], [49, 97], [97, 115]]}\n",
      "fn path: /tmp/video_file.mp4\n",
      "Trying to compute embedding for movie Movies/114207908, element 0, class mdmmt_legacy\n",
      "http://ec2-18-159-140-240.eu-central-1.compute.amazonaws.com:7000/static/development/0025_THE_LORD_OF_THE_RINGS_THE_RETURN_OF_THE_KING_02_55_46_515-02_55_51_946.mp4\n",
      "Movie info: {'arango_id': 'Movies/114207908', 'description': '0025_THE_LORD_OF_THE_RINGS_THE_RETURN_OF_THE_KING_02_55_46_515-02_55_51_946', 'fps': 23, 'width': 1920, 'height': 1080, 'last frame': 300, 'movie_id': 'f9305a676703419bb958d2c44454293f', 'mdfs': [[2, 57, 112], [116, 122, 129]], 'scene_elements': [[0, 114], [114, 131]]}\n",
      "fn path: /tmp/video_file.mp4\n",
      "Trying to compute embedding for movie Movies/114208196, element 1, class mdmmt_legacy\n",
      "http://ec2-18-159-140-240.eu-central-1.compute.amazonaws.com:7000/static/development/1024_Identity_Thief_00_01_43_655-00_01_47_807.mp4\n",
      "Movie info: {'arango_id': 'Movies/114208196', 'description': '1024_Identity_Thief_00_01_43_655-00_01_47_807', 'fps': 23, 'width': 1920, 'height': 1080, 'last frame': 300, 'movie_id': 'd9208528c2a84a54862adb383766ba3a', 'mdfs': [[2, 22, 42], [46, 72, 98]], 'scene_elements': [[0, 44], [44, 100]]}\n",
      "fn path: /tmp/video_file.mp4\n",
      "Trying to compute embedding for movie Movies/114208338, element 0, class mdmmt_legacy\n",
      "http://ec2-18-159-140-240.eu-central-1.compute.amazonaws.com:7000/static/development/1035_The_Adjustment_Bureau_00_16_58_881-00_17_05_736.mp4\n",
      "Movie info: {'arango_id': 'Movies/114208338', 'description': '1035_The_Adjustment_Bureau_00_16_58_881-00_17_05_736', 'fps': 23, 'width': 1920, 'height': 1080, 'last frame': 300, 'movie_id': '65baed5e564b456c88d0f4b7dc60432d', 'mdfs': [[2, 80, 158], [162, 162, 163]], 'scene_elements': [[0, 160], [160, 165]]}\n",
      "fn path: /tmp/video_file.mp4\n",
      "Trying to compute embedding for movie Movies/114208576, element 0, class mdmmt_legacy\n",
      "http://ec2-18-159-140-240.eu-central-1.compute.amazonaws.com:7000/static/development/0014_Ist_das_Leben_nicht_schoen_00_01_45_481-00_02_06_641.mp4\n",
      "Movie info: {'arango_id': 'Movies/114208576', 'description': '0014_Ist_das_Leben_nicht_schoen_00_01_45_481-00_02_06_641', 'fps': 23, 'width': 1920, 'height': 1080, 'last frame': 300, 'movie_id': '7836cc04ba3a418bb54972da7a833d31', 'mdfs': [[2, 254, 506]], 'scene_elements': [[0, 508]]}\n",
      "fn path: /tmp/video_file.mp4\n",
      "Trying to compute embedding for movie Movies/114208744, element 0, class mdmmt_legacy\n",
      "http://ec2-18-159-140-240.eu-central-1.compute.amazonaws.com:7000/static/development/1010_TITANIC_00_41_32_072-00_41_40_196.mp4\n",
      "Movie info: {'arango_id': 'Movies/114208744', 'description': '1010_TITANIC_00_41_32_072-00_41_40_196', 'fps': 23, 'width': 1920, 'height': 1080, 'last frame': 300, 'movie_id': '03e53e8e2b4a45759ac74b684d6c737d', 'mdfs': [[2, 14, 27], [31, 64, 98], [102, 147, 193]], 'scene_elements': [[0, 29], [29, 100], [100, 195]]}\n",
      "fn path: /tmp/video_file.mp4\n",
      "Trying to compute embedding for movie Movies/114208744, element 2, class mdmmt_legacy\n",
      "http://ec2-18-159-140-240.eu-central-1.compute.amazonaws.com:7000/static/development/1010_TITANIC_00_41_32_072-00_41_40_196.mp4\n",
      "Movie info: {'arango_id': 'Movies/114208744', 'description': '1010_TITANIC_00_41_32_072-00_41_40_196', 'fps': 23, 'width': 1920, 'height': 1080, 'last frame': 300, 'movie_id': '03e53e8e2b4a45759ac74b684d6c737d', 'mdfs': [[2, 14, 27], [31, 64, 98], [102, 147, 193]], 'scene_elements': [[0, 29], [29, 100], [100, 195]]}\n",
      "fn path: /tmp/video_file.mp4\n",
      "Trying to compute embedding for movie Movies/114206337, element 0, class mdmmt_max\n",
      "http://ec2-18-159-140-240.eu-central-1.compute.amazonaws.com:7000/static/development/1015_27_Dresses_00_38_02_757-00_38_08_213.mp4\n",
      "Movie info: {'arango_id': 'Movies/114206337', 'description': '1015_27_Dresses_00_38_02_757-00_38_08_213', 'fps': 23, 'width': 1920, 'height': 1080, 'last frame': 300, 'movie_id': 'f5ebaf4686c547a0bd8bc3859933a091', 'mdfs': [[2, 36, 71], [75, 100, 125], [129, 129, 129]], 'scene_elements': [[0, 73], [73, 127], [127, 131]]}\n",
      "fn path: /tmp/video_file.mp4\n",
      "Trying to compute embedding for movie Movies/114206337, element 1, class mdmmt_max\n",
      "http://ec2-18-159-140-240.eu-central-1.compute.amazonaws.com:7000/static/development/1015_27_Dresses_00_38_02_757-00_38_08_213.mp4\n",
      "Movie info: {'arango_id': 'Movies/114206337', 'description': '1015_27_Dresses_00_38_02_757-00_38_08_213', 'fps': 23, 'width': 1920, 'height': 1080, 'last frame': 300, 'movie_id': 'f5ebaf4686c547a0bd8bc3859933a091', 'mdfs': [[2, 36, 71], [75, 100, 125], [129, 129, 129]], 'scene_elements': [[0, 73], [73, 127], [127, 131]]}\n",
      "fn path: /tmp/video_file.mp4\n",
      "Trying to compute embedding for movie Movies/114206548, element 0, class mdmmt_max\n",
      "http://ec2-18-159-140-240.eu-central-1.compute.amazonaws.com:7000/static/development/0001_American_Beauty_01_45_48_324-01_46_01_008.mp4\n",
      "Movie info: {'arango_id': 'Movies/114206548', 'description': '0001_American_Beauty_01_45_48_324-01_46_01_008', 'fps': 23, 'width': 1920, 'height': 1080, 'last frame': 300, 'movie_id': '6f4eb9e910634e3da53707fb3362d44a', 'mdfs': [[2, 16, 30], [34, 168, 302], [306, 304, 303]], 'scene_elements': [[0, 32], [32, 304], [304, 305]]}\n",
      "fn path: /tmp/video_file.mp4\n",
      "Trying to compute embedding for movie Movies/114206548, element 1, class mdmmt_max\n",
      "http://ec2-18-159-140-240.eu-central-1.compute.amazonaws.com:7000/static/development/0001_American_Beauty_01_45_48_324-01_46_01_008.mp4\n",
      "Movie info: {'arango_id': 'Movies/114206548', 'description': '0001_American_Beauty_01_45_48_324-01_46_01_008', 'fps': 23, 'width': 1920, 'height': 1080, 'last frame': 300, 'movie_id': '6f4eb9e910634e3da53707fb3362d44a', 'mdfs': [[2, 16, 30], [34, 168, 302], [306, 304, 303]], 'scene_elements': [[0, 32], [32, 304], [304, 305]]}\n",
      "fn path: /tmp/video_file.mp4\n",
      "Trying to compute embedding for movie Movies/114206952, element 1, class mdmmt_max\n",
      "http://ec2-18-159-140-240.eu-central-1.compute.amazonaws.com:7000/static/development/1031_Quantum_of_Solace_00_39_09_510-00_39_14_286.mp4\n",
      "Movie info: {'arango_id': 'Movies/114206952', 'description': '1031_Quantum_of_Solace_00_39_09_510-00_39_14_286', 'fps': 23, 'width': 1920, 'height': 1080, 'last frame': 300, 'movie_id': '6910d4ae51ee4a83a3586c1ea9f16b0e', 'mdfs': [[2, 7, 13], [17, 32, 47], [51, 73, 95], [99, 106, 113]], 'scene_elements': [[0, 15], [15, 49], [49, 97], [97, 115]]}\n",
      "fn path: /tmp/video_file.mp4\n",
      "Trying to compute embedding for movie Movies/114207908, element 0, class mdmmt_max\n",
      "http://ec2-18-159-140-240.eu-central-1.compute.amazonaws.com:7000/static/development/0025_THE_LORD_OF_THE_RINGS_THE_RETURN_OF_THE_KING_02_55_46_515-02_55_51_946.mp4\n",
      "Movie info: {'arango_id': 'Movies/114207908', 'description': '0025_THE_LORD_OF_THE_RINGS_THE_RETURN_OF_THE_KING_02_55_46_515-02_55_51_946', 'fps': 23, 'width': 1920, 'height': 1080, 'last frame': 300, 'movie_id': 'f9305a676703419bb958d2c44454293f', 'mdfs': [[2, 57, 112], [116, 122, 129]], 'scene_elements': [[0, 114], [114, 131]]}\n",
      "fn path: /tmp/video_file.mp4\n",
      "Trying to compute embedding for movie Movies/114208196, element 1, class mdmmt_max\n",
      "http://ec2-18-159-140-240.eu-central-1.compute.amazonaws.com:7000/static/development/1024_Identity_Thief_00_01_43_655-00_01_47_807.mp4\n",
      "Movie info: {'arango_id': 'Movies/114208196', 'description': '1024_Identity_Thief_00_01_43_655-00_01_47_807', 'fps': 23, 'width': 1920, 'height': 1080, 'last frame': 300, 'movie_id': 'd9208528c2a84a54862adb383766ba3a', 'mdfs': [[2, 22, 42], [46, 72, 98]], 'scene_elements': [[0, 44], [44, 100]]}\n",
      "fn path: /tmp/video_file.mp4\n",
      "Trying to compute embedding for movie Movies/114208338, element 0, class mdmmt_max\n",
      "http://ec2-18-159-140-240.eu-central-1.compute.amazonaws.com:7000/static/development/1035_The_Adjustment_Bureau_00_16_58_881-00_17_05_736.mp4\n",
      "Movie info: {'arango_id': 'Movies/114208338', 'description': '1035_The_Adjustment_Bureau_00_16_58_881-00_17_05_736', 'fps': 23, 'width': 1920, 'height': 1080, 'last frame': 300, 'movie_id': '65baed5e564b456c88d0f4b7dc60432d', 'mdfs': [[2, 80, 158], [162, 162, 163]], 'scene_elements': [[0, 160], [160, 165]]}\n",
      "fn path: /tmp/video_file.mp4\n",
      "Trying to compute embedding for movie Movies/114208576, element 0, class mdmmt_max\n",
      "http://ec2-18-159-140-240.eu-central-1.compute.amazonaws.com:7000/static/development/0014_Ist_das_Leben_nicht_schoen_00_01_45_481-00_02_06_641.mp4\n",
      "Movie info: {'arango_id': 'Movies/114208576', 'description': '0014_Ist_das_Leben_nicht_schoen_00_01_45_481-00_02_06_641', 'fps': 23, 'width': 1920, 'height': 1080, 'last frame': 300, 'movie_id': '7836cc04ba3a418bb54972da7a833d31', 'mdfs': [[2, 254, 506]], 'scene_elements': [[0, 508]]}\n",
      "fn path: /tmp/video_file.mp4\n",
      "Trying to compute embedding for movie Movies/114208744, element 0, class mdmmt_max\n",
      "http://ec2-18-159-140-240.eu-central-1.compute.amazonaws.com:7000/static/development/1010_TITANIC_00_41_32_072-00_41_40_196.mp4\n",
      "Movie info: {'arango_id': 'Movies/114208744', 'description': '1010_TITANIC_00_41_32_072-00_41_40_196', 'fps': 23, 'width': 1920, 'height': 1080, 'last frame': 300, 'movie_id': '03e53e8e2b4a45759ac74b684d6c737d', 'mdfs': [[2, 14, 27], [31, 64, 98], [102, 147, 193]], 'scene_elements': [[0, 29], [29, 100], [100, 195]]}\n",
      "fn path: /tmp/video_file.mp4\n",
      "Trying to compute embedding for movie Movies/114208744, element 2, class mdmmt_max\n",
      "http://ec2-18-159-140-240.eu-central-1.compute.amazonaws.com:7000/static/development/1010_TITANIC_00_41_32_072-00_41_40_196.mp4\n",
      "Movie info: {'arango_id': 'Movies/114208744', 'description': '1010_TITANIC_00_41_32_072-00_41_40_196', 'fps': 23, 'width': 1920, 'height': 1080, 'last frame': 300, 'movie_id': '03e53e8e2b4a45759ac74b684d6c737d', 'mdfs': [[2, 14, 27], [31, 64, 98], [102, 147, 193]], 'scene_elements': [[0, 29], [29, 100], [100, 195]]}\n",
      "fn path: /tmp/video_file.mp4\n",
      "Trying to compute embedding for movie Movies/114206337, element 0, class mdmmt_mean\n",
      "http://ec2-18-159-140-240.eu-central-1.compute.amazonaws.com:7000/static/development/1015_27_Dresses_00_38_02_757-00_38_08_213.mp4\n",
      "Movie info: {'arango_id': 'Movies/114206337', 'description': '1015_27_Dresses_00_38_02_757-00_38_08_213', 'fps': 23, 'width': 1920, 'height': 1080, 'last frame': 300, 'movie_id': 'f5ebaf4686c547a0bd8bc3859933a091', 'mdfs': [[2, 36, 71], [75, 100, 125], [129, 129, 129]], 'scene_elements': [[0, 73], [73, 127], [127, 131]]}\n",
      "fn path: /tmp/video_file.mp4\n",
      "Trying to compute embedding for movie Movies/114206337, element 1, class mdmmt_mean\n",
      "http://ec2-18-159-140-240.eu-central-1.compute.amazonaws.com:7000/static/development/1015_27_Dresses_00_38_02_757-00_38_08_213.mp4\n",
      "Movie info: {'arango_id': 'Movies/114206337', 'description': '1015_27_Dresses_00_38_02_757-00_38_08_213', 'fps': 23, 'width': 1920, 'height': 1080, 'last frame': 300, 'movie_id': 'f5ebaf4686c547a0bd8bc3859933a091', 'mdfs': [[2, 36, 71], [75, 100, 125], [129, 129, 129]], 'scene_elements': [[0, 73], [73, 127], [127, 131]]}\n",
      "fn path: /tmp/video_file.mp4\n",
      "Trying to compute embedding for movie Movies/114206548, element 0, class mdmmt_mean\n",
      "http://ec2-18-159-140-240.eu-central-1.compute.amazonaws.com:7000/static/development/0001_American_Beauty_01_45_48_324-01_46_01_008.mp4\n",
      "Movie info: {'arango_id': 'Movies/114206548', 'description': '0001_American_Beauty_01_45_48_324-01_46_01_008', 'fps': 23, 'width': 1920, 'height': 1080, 'last frame': 300, 'movie_id': '6f4eb9e910634e3da53707fb3362d44a', 'mdfs': [[2, 16, 30], [34, 168, 302], [306, 304, 303]], 'scene_elements': [[0, 32], [32, 304], [304, 305]]}\n",
      "fn path: /tmp/video_file.mp4\n",
      "Trying to compute embedding for movie Movies/114206548, element 1, class mdmmt_mean\n",
      "http://ec2-18-159-140-240.eu-central-1.compute.amazonaws.com:7000/static/development/0001_American_Beauty_01_45_48_324-01_46_01_008.mp4\n",
      "Movie info: {'arango_id': 'Movies/114206548', 'description': '0001_American_Beauty_01_45_48_324-01_46_01_008', 'fps': 23, 'width': 1920, 'height': 1080, 'last frame': 300, 'movie_id': '6f4eb9e910634e3da53707fb3362d44a', 'mdfs': [[2, 16, 30], [34, 168, 302], [306, 304, 303]], 'scene_elements': [[0, 32], [32, 304], [304, 305]]}\n",
      "fn path: /tmp/video_file.mp4\n",
      "Trying to compute embedding for movie Movies/114206952, element 1, class mdmmt_mean\n",
      "http://ec2-18-159-140-240.eu-central-1.compute.amazonaws.com:7000/static/development/1031_Quantum_of_Solace_00_39_09_510-00_39_14_286.mp4\n",
      "Movie info: {'arango_id': 'Movies/114206952', 'description': '1031_Quantum_of_Solace_00_39_09_510-00_39_14_286', 'fps': 23, 'width': 1920, 'height': 1080, 'last frame': 300, 'movie_id': '6910d4ae51ee4a83a3586c1ea9f16b0e', 'mdfs': [[2, 7, 13], [17, 32, 47], [51, 73, 95], [99, 106, 113]], 'scene_elements': [[0, 15], [15, 49], [49, 97], [97, 115]]}\n",
      "fn path: /tmp/video_file.mp4\n",
      "Trying to compute embedding for movie Movies/114207908, element 0, class mdmmt_mean\n",
      "http://ec2-18-159-140-240.eu-central-1.compute.amazonaws.com:7000/static/development/0025_THE_LORD_OF_THE_RINGS_THE_RETURN_OF_THE_KING_02_55_46_515-02_55_51_946.mp4\n",
      "Movie info: {'arango_id': 'Movies/114207908', 'description': '0025_THE_LORD_OF_THE_RINGS_THE_RETURN_OF_THE_KING_02_55_46_515-02_55_51_946', 'fps': 23, 'width': 1920, 'height': 1080, 'last frame': 300, 'movie_id': 'f9305a676703419bb958d2c44454293f', 'mdfs': [[2, 57, 112], [116, 122, 129]], 'scene_elements': [[0, 114], [114, 131]]}\n",
      "fn path: /tmp/video_file.mp4\n",
      "Trying to compute embedding for movie Movies/114208196, element 1, class mdmmt_mean\n",
      "http://ec2-18-159-140-240.eu-central-1.compute.amazonaws.com:7000/static/development/1024_Identity_Thief_00_01_43_655-00_01_47_807.mp4\n",
      "Movie info: {'arango_id': 'Movies/114208196', 'description': '1024_Identity_Thief_00_01_43_655-00_01_47_807', 'fps': 23, 'width': 1920, 'height': 1080, 'last frame': 300, 'movie_id': 'd9208528c2a84a54862adb383766ba3a', 'mdfs': [[2, 22, 42], [46, 72, 98]], 'scene_elements': [[0, 44], [44, 100]]}\n",
      "fn path: /tmp/video_file.mp4\n",
      "Trying to compute embedding for movie Movies/114208338, element 0, class mdmmt_mean\n",
      "http://ec2-18-159-140-240.eu-central-1.compute.amazonaws.com:7000/static/development/1035_The_Adjustment_Bureau_00_16_58_881-00_17_05_736.mp4\n",
      "Movie info: {'arango_id': 'Movies/114208338', 'description': '1035_The_Adjustment_Bureau_00_16_58_881-00_17_05_736', 'fps': 23, 'width': 1920, 'height': 1080, 'last frame': 300, 'movie_id': '65baed5e564b456c88d0f4b7dc60432d', 'mdfs': [[2, 80, 158], [162, 162, 163]], 'scene_elements': [[0, 160], [160, 165]]}\n",
      "fn path: /tmp/video_file.mp4\n",
      "Trying to compute embedding for movie Movies/114208576, element 0, class mdmmt_mean\n",
      "http://ec2-18-159-140-240.eu-central-1.compute.amazonaws.com:7000/static/development/0014_Ist_das_Leben_nicht_schoen_00_01_45_481-00_02_06_641.mp4\n",
      "Movie info: {'arango_id': 'Movies/114208576', 'description': '0014_Ist_das_Leben_nicht_schoen_00_01_45_481-00_02_06_641', 'fps': 23, 'width': 1920, 'height': 1080, 'last frame': 300, 'movie_id': '7836cc04ba3a418bb54972da7a833d31', 'mdfs': [[2, 254, 506]], 'scene_elements': [[0, 508]]}\n",
      "fn path: /tmp/video_file.mp4\n",
      "Trying to compute embedding for movie Movies/114208744, element 0, class mdmmt_mean\n",
      "http://ec2-18-159-140-240.eu-central-1.compute.amazonaws.com:7000/static/development/1010_TITANIC_00_41_32_072-00_41_40_196.mp4\n",
      "Movie info: {'arango_id': 'Movies/114208744', 'description': '1010_TITANIC_00_41_32_072-00_41_40_196', 'fps': 23, 'width': 1920, 'height': 1080, 'last frame': 300, 'movie_id': '03e53e8e2b4a45759ac74b684d6c737d', 'mdfs': [[2, 14, 27], [31, 64, 98], [102, 147, 193]], 'scene_elements': [[0, 29], [29, 100], [100, 195]]}\n",
      "fn path: /tmp/video_file.mp4\n",
      "Trying to compute embedding for movie Movies/114208744, element 2, class mdmmt_mean\n",
      "http://ec2-18-159-140-240.eu-central-1.compute.amazonaws.com:7000/static/development/1010_TITANIC_00_41_32_072-00_41_40_196.mp4\n",
      "Movie info: {'arango_id': 'Movies/114208744', 'description': '1010_TITANIC_00_41_32_072-00_41_40_196', 'fps': 23, 'width': 1920, 'height': 1080, 'last frame': 300, 'movie_id': '03e53e8e2b4a45759ac74b684d6c737d', 'mdfs': [[2, 14, 27], [31, 64, 98], [102, 147, 193]], 'scene_elements': [[0, 29], [29, 100], [100, 195]]}\n",
      "fn path: /tmp/video_file.mp4\n"
     ]
    }
   ],
   "source": [
    "all_scores = []\n",
    "for encoding_method in vlm_types:\n",
    "    method_scores = []\n",
    "    for mid, elem, sentences, in zip(all_movies,all_elems, all_sentences):        \n",
    "        print(\"Trying to compute embedding for movie {}, element {}, class {}\".format(mid,elem,encoding_method))\n",
    "        video_emb = vlm.encode_video(mid,elem,class_name=encoding_method).squeeze().cuda()\n",
    "        method_scores.append(compute_batch_scores(video_emb, sentences,class_name=encoding_method))\n",
    "    all_scores.append(np.stack(method_scores,axis=0))       "
   ]
  },
  {
   "cell_type": "code",
   "execution_count": 22,
   "id": "92b55e59-b4bd-49f6-8d9d-25ff079ff40c",
   "metadata": {},
   "outputs": [],
   "source": [
    "actual = np.stack(all_scores,axis=0).transpose([1,0,2])\n",
    "init = np.stack([actual,goldens],axis=3)"
   ]
  },
  {
   "cell_type": "code",
   "execution_count": 23,
   "id": "d2a94485-9c1c-4c7a-bb22-39722fefe7e2",
   "metadata": {},
   "outputs": [],
   "source": [
    "mindex = pd.MultiIndex.from_product([all_names, vlm_types,range(1,11)], names=[\"movie\", \"vlm_type\", \"index\"])\n",
    "df1 = pd.DataFrame(init.reshape(-1,2),index=mindex,columns=['actual', 'golden'])"
   ]
  },
  {
   "cell_type": "code",
   "execution_count": null,
   "id": "9469797e-a9c5-4bb7-be89-c65995ae84f6",
   "metadata": {},
   "outputs": [],
   "source": [
    "df = df1.loc[all_names[5],:,:]\n",
    "plt.figure(figsize=(15, 8))\n",
    "g = sns.scatterplot(data = df.reset_index(), x = 'index', y = 'actual', hue='golden', style='vlm_type', s=70,\n",
    "               palette={1:'r', 2:'b', 3:'g'})"
   ]
  },
  {
   "cell_type": "code",
   "execution_count": 35,
   "id": "2cff84cf-ea2b-4d5c-a699-b123a9ed382f",
   "metadata": {},
   "outputs": [
    {
     "ename": "IndexError",
     "evalue": "list index out of range",
     "output_type": "error",
     "traceback": [
      "\u001b[0;31m---------------------------------------------------------------------------\u001b[0m",
      "\u001b[0;31mIndexError\u001b[0m                                Traceback (most recent call last)",
      "\u001b[0;32m/tmp/ipykernel_75/3366352029.py\u001b[0m in \u001b[0;36m<module>\u001b[0;34m\u001b[0m\n\u001b[0;32m----> 1\u001b[0;31m \u001b[0mplot_index\u001b[0m\u001b[0;34m(\u001b[0m\u001b[0;36m11\u001b[0m\u001b[0;34m,\u001b[0m\u001b[0mdf1\u001b[0m\u001b[0;34m,\u001b[0m\u001b[0ms\u001b[0m\u001b[0;34m=\u001b[0m\u001b[0;36m140\u001b[0m\u001b[0;34m)\u001b[0m\u001b[0;34m\u001b[0m\u001b[0;34m\u001b[0m\u001b[0m\n\u001b[0m",
      "\u001b[0;32m/tmp/ipykernel_75/2733621830.py\u001b[0m in \u001b[0;36mplot_index\u001b[0;34m(i, df1, s)\u001b[0m\n\u001b[1;32m     40\u001b[0m \u001b[0;34m\u001b[0m\u001b[0m\n\u001b[1;32m     41\u001b[0m \u001b[0;32mdef\u001b[0m \u001b[0mplot_index\u001b[0m\u001b[0;34m(\u001b[0m\u001b[0mi\u001b[0m\u001b[0;34m,\u001b[0m\u001b[0mdf1\u001b[0m\u001b[0;34m,\u001b[0m \u001b[0ms\u001b[0m\u001b[0;34m=\u001b[0m\u001b[0;36m70\u001b[0m\u001b[0;34m)\u001b[0m\u001b[0;34m:\u001b[0m\u001b[0;34m\u001b[0m\u001b[0;34m\u001b[0m\u001b[0m\n\u001b[0;32m---> 42\u001b[0;31m     \u001b[0melem\u001b[0m \u001b[0;34m=\u001b[0m \u001b[0mall_elems\u001b[0m\u001b[0;34m[\u001b[0m\u001b[0mi\u001b[0m\u001b[0;34m]\u001b[0m\u001b[0;34m\u001b[0m\u001b[0;34m\u001b[0m\u001b[0m\n\u001b[0m\u001b[1;32m     43\u001b[0m     \u001b[0mmid\u001b[0m \u001b[0;34m=\u001b[0m \u001b[0mall_movies\u001b[0m\u001b[0;34m[\u001b[0m\u001b[0mi\u001b[0m\u001b[0;34m]\u001b[0m\u001b[0;34m\u001b[0m\u001b[0;34m\u001b[0m\u001b[0m\n\u001b[1;32m     44\u001b[0m     \u001b[0minfo\u001b[0m \u001b[0;34m=\u001b[0m \u001b[0mapi\u001b[0m\u001b[0;34m.\u001b[0m\u001b[0mget_movie_info\u001b[0m\u001b[0;34m(\u001b[0m\u001b[0mmid\u001b[0m\u001b[0;34m)\u001b[0m\u001b[0;34m\u001b[0m\u001b[0;34m\u001b[0m\u001b[0m\n",
      "\u001b[0;31mIndexError\u001b[0m: list index out of range"
     ]
    }
   ],
   "source": [
    "plot_index(11,df1,s=140)"
   ]
  },
  {
   "cell_type": "code",
   "execution_count": null,
   "id": "dccaffa1-99c9-409d-8c64-a8966e28ec4c",
   "metadata": {},
   "outputs": [],
   "source": [
    "api.get_movie_info('Movies/114208744')"
   ]
  },
  {
   "cell_type": "code",
   "execution_count": null,
   "id": "da48bb61-005e-4418-8e00-90f5d6bd1ac5",
   "metadata": {},
   "outputs": [],
   "source": [
    "df2 = df1.unstack()"
   ]
  },
  {
   "cell_type": "code",
   "execution_count": null,
   "id": "6a6f0ee6-de52-4bfa-b73d-ab8d836071a9",
   "metadata": {},
   "outputs": [],
   "source": [
    "df2.unstack().columns"
   ]
  },
  {
   "cell_type": "code",
   "execution_count": null,
   "id": "e8ec958d-b72f-4235-a31f-6a8ed7a16bef",
   "metadata": {},
   "outputs": [],
   "source": [
    "# Nested dictionary to convert it into multiindex dataframe\n",
    "nested_dict = {'India': {'State': ['Maharashtra', 'West Bengal',\n",
    "\t\t\t\t\t\t\t\t'Uttar Pradesh', 'Bihar', 'Karnataka'],\n",
    "\t\t\t\t\t\t'Capital': ['Mumbai', 'Kolkata', 'Lucknow',\n",
    "\t\t\t\t\t\t\t\t\t'Patna', 'Bengaluru']},\n",
    "\n",
    "\t\t\t'America': {'State': ['California', 'Florida', 'Georgia',\n",
    "\t\t\t\t\t\t\t\t\t'Massachusetts', 'New York'],\n",
    "\t\t\t\t\t\t'Capital': ['Sacramento', 'Tallahassee', 'Atlanta',\n",
    "\t\t\t\t\t\t\t\t\t'Boston', 'Albany']}}\n",
    "\n",
    "reformed_dict = {}\n",
    "for outerKey, innerDict in nested_dict.items():\n",
    "\tfor innerKey, values in innerDict.items():\n",
    "\t\treformed_dict[(outerKey, innerKey)] = values\n",
    "\n",
    "# Display multiindex dataframe\n",
    "multiIndex_df = pd.DataFrame(reformed_dict)\n",
    "multiIndex_df\n"
   ]
  },
  {
   "cell_type": "code",
   "execution_count": null,
   "id": "797127ac-602f-46b1-8ac8-d37a9d85d581",
   "metadata": {},
   "outputs": [],
   "source": [
    "reformed_dict"
   ]
  },
  {
   "cell_type": "code",
   "execution_count": null,
   "id": "d72da996-e69c-4aab-ac53-19b4d27290cf",
   "metadata": {},
   "outputs": [],
   "source": []
  }
 ],
 "metadata": {
  "interpreter": {
   "hash": "7dfe4d185a1b3661f8d189d2dcb52f070789ba26e5d1ea6f8391b638319fa460"
  },
  "kernelspec": {
   "display_name": "Python 3 (ipykernel)",
   "language": "python",
   "name": "python3"
  },
  "language_info": {
   "codemirror_mode": {
    "name": "ipython",
    "version": 3
   },
   "file_extension": ".py",
   "mimetype": "text/x-python",
   "name": "python",
   "nbconvert_exporter": "python",
   "pygments_lexer": "ipython3",
   "version": "3.9.7"
  }
 },
 "nbformat": 4,
 "nbformat_minor": 5
}
