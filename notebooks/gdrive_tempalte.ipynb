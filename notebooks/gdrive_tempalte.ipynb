{
  "nbformat": 4,
  "nbformat_minor": 0,
  "metadata": {
    "colab": {
      "name": "gdrive_tempalte.ipynb",
      "provenance": [],
      "collapsed_sections": [],
      "include_colab_link": true
    },
    "kernelspec": {
      "name": "python3",
      "display_name": "Python 3"
    },
    "accelerator": "GPU"
  },
  "cells": [
    {
      "cell_type": "markdown",
      "metadata": {
        "id": "view-in-github",
        "colab_type": "text"
      },
      "source": [
        "<a href=\"https://colab.research.google.com/github/dsivov/NEBULA2/blob/master/notebooks/gdrive_tempalte.ipynb\" target=\"_parent\"><img src=\"https://colab.research.google.com/assets/colab-badge.svg\" alt=\"Open In Colab\"/></a>"
      ]
    },
    {
      "cell_type": "markdown",
      "metadata": {
        "id": "3aRF6H2sKe_z"
      },
      "source": [
        "Nebula on GDrive and Colab.\n",
        "\n",
        "\n",
        "*   Please create nebula folders in \"Colab Notebooks\" on your GDrive before:\n",
        "\n",
        "\n",
        "1.   nebula/data - Code and already downloaded models\n",
        "2.   nebula/env - Package installation path\n",
        "3.   nebula/models - Tranformer Models (Will be donloaded only once)\n",
        "\n",
        "\n",
        "\n",
        "\n",
        "*   Install rclone on linux and run rclone config (Instructions: https://rclone.org/drive/)\n",
        "\n",
        "\n",
        "\n",
        "*   Mount gdrive on linux for VSCode and git access: - \n",
        "`rclone mount gdrive:Colab\\ Notebooks gdrive --vfs-cache-mode full --vfs-cache-max-size 64G --vfs-cache-max-age 120h --dir-cache-time 120h --vfs-read-chunk-size-limit 0 --poll-interval 1s`\n",
        "Now you can edit code in editor (vscode) locally\n",
        "\n",
        "*   All packages install will be pointed to nebula_env (line 17)\n",
        "\n"
      ]
    },
    {
      "cell_type": "markdown",
      "source": [
        "This part must be executed each time you connect to Colab kernel"
      ],
      "metadata": {
        "id": "ZzaeCPooJMzJ"
      }
    },
    {
      "cell_type": "code",
      "metadata": {
        "id": "9NfALqf_KcUb",
        "colab": {
          "base_uri": "https://localhost:8080/"
        },
        "outputId": "741cb608-f73c-4f15-99c5-782586624f50"
      },
      "source": [
        "import os, sys\n",
        "from google.colab import drive\n",
        "nebula_path = '/content/nebula'\n",
        "isdir = os.path.isdir(nebula_path)\n",
        "if not isdir:\n",
        "  drive.mount('/content/mnt')\n",
        "  os.symlink('/content/mnt/My Drive/Colab Notebooks/nebula', nebula_path)\n",
        "else:\n",
        "  print(os.listdir(nebula_path))\n",
        "nebula_env = nebula_path + \"/env\"\n",
        "nebula_models = nebula_path + \"/models\"\n",
        "nebula_data = nebula_path + \"/data\"\n",
        "nebula_tar = nebula_data + \"/backup.tgz\"\n",
        "nebula_src = nebula_data + \"/dbdata/NEBULA2\"\n",
        "sys.path.insert(0, nebula_src)\n",
        "sys.path.insert(0, nebula_env)\n",
        "os.environ['TRANSFORMERS_CACHE'] = nebula_models\n"
      ],
      "execution_count": 1,
      "outputs": [
        {
          "output_type": "stream",
          "name": "stdout",
          "text": [
            "['env', 'models', 'data']\n"
          ]
        }
      ]
    },
    {
      "cell_type": "markdown",
      "source": [
        "Execute it just once, when setup GDrive\n",
        "Download nebula code to Gdrive and untar it\n"
      ],
      "metadata": {
        "id": "CybttiWgATpW"
      }
    },
    {
      "cell_type": "code",
      "metadata": {
        "id": "trAxoCkMLgF1"
      },
      "source": [
        "\n",
        "#!wget https://nebula-volume.s3.eu-central-1.amazonaws.com/backup.tgz -O $nebula_tar\n",
        "#!cd $nebula_data; pwd; ls; tar zxvf backup.tgz; ls\n"
      ],
      "execution_count": null,
      "outputs": []
    },
    {
      "cell_type": "markdown",
      "source": [
        "Add here related packages, each subproject with own cell, \n",
        "don't forget to add --target=$nebula_env \n",
        "Comment out after first install - they are persists on GDrive"
      ],
      "metadata": {
        "id": "Fhakhi5f3TWh"
      }
    },
    {
      "cell_type": "code",
      "source": [
        "#!pip install --target=$nebula_env python-arango==7.2.0\n",
        "#!pip install --target=$nebula_env pymilvus==1.1.0"
      ],
      "metadata": {
        "id": "hM1FgCLj3A4a"
      },
      "execution_count": null,
      "outputs": []
    },
    {
      "cell_type": "markdown",
      "source": [
        "Example for MDMMT related packages"
      ],
      "metadata": {
        "id": "2O4UL5DF3XHG"
      }
    },
    {
      "cell_type": "code",
      "source": [
        "# MDMMT packages, uncomment for first usage\n",
        "#!pip install --target=$nebula_env  tf_slim \n",
        "#!pip install --target=$nebula_env ftfy\n",
        "#!pip install --target=$nebula_env transformers"
      ],
      "metadata": {
        "id": "0uRtIgel3MKN"
      },
      "execution_count": null,
      "outputs": []
    },
    {
      "cell_type": "code",
      "metadata": {
        "id": "2Fj2nl433Nje"
      },
      "source": [
        "from nebula_api.nebula_enrichment_api import NRE_API"
      ],
      "execution_count": 3,
      "outputs": []
    },
    {
      "cell_type": "code",
      "metadata": {
        "id": "lC7fNEcZNeFV",
        "colab": {
          "base_uri": "https://localhost:8080/"
        },
        "outputId": "ce0d2549-419e-43ef-f66c-625a0ead2e7d"
      },
      "source": [
        "\n",
        "from nebula_api.mdmmt_api.mdmmt_api import MDMMT_API\n",
        "mdmmt = MDMMT_API()\n"
      ],
      "execution_count": 4,
      "outputs": [
        {
          "output_type": "stream",
          "name": "stdout",
          "text": [
            "INFO:tensorflow:Restoring parameters from /content/nebula/data/dbdata/NEBULA2/nebula_api/mdmmt_api/ckpts/vggish_model.ckpt\n"
          ]
        },
        {
          "output_type": "stream",
          "name": "stderr",
          "text": [
            "Some weights of the model checkpoint at bert-base-cased were not used when initializing BertModel: ['cls.predictions.transform.LayerNorm.bias', 'cls.predictions.transform.dense.weight', 'cls.predictions.transform.dense.bias', 'cls.seq_relationship.bias', 'cls.predictions.bias', 'cls.predictions.decoder.weight', 'cls.predictions.transform.LayerNorm.weight', 'cls.seq_relationship.weight']\n",
            "- This IS expected if you are initializing BertModel from the checkpoint of a model trained on another task or with another architecture (e.g. initializing a BertForSequenceClassification model from a BertForPreTraining model).\n",
            "- This IS NOT expected if you are initializing BertModel from the checkpoint of a model that you expect to be exactly identical (initializing a BertForSequenceClassification model from a BertForSequenceClassification model).\n",
            "Some weights of the model checkpoint at bert-base-cased were not used when initializing BertModel: ['cls.predictions.transform.LayerNorm.bias', 'cls.predictions.transform.dense.weight', 'cls.predictions.transform.dense.bias', 'cls.seq_relationship.bias', 'cls.predictions.bias', 'cls.predictions.decoder.weight', 'cls.predictions.transform.LayerNorm.weight', 'cls.seq_relationship.weight']\n",
            "- This IS expected if you are initializing BertModel from the checkpoint of a model trained on another task or with another architecture (e.g. initializing a BertForSequenceClassification model from a BertForPreTraining model).\n",
            "- This IS NOT expected if you are initializing BertModel from the checkpoint of a model that you expect to be exactly identical (initializing a BertForSequenceClassification model from a BertForSequenceClassification model).\n"
          ]
        }
      ]
    },
    {
      "cell_type": "markdown",
      "source": [
        "Tests:\n",
        "\n",
        "\n",
        "1.   DataBase connector\n",
        "2.   MDMMT \n",
        "3.   Milvus API\n",
        "\n"
      ],
      "metadata": {
        "id": "VuVjtIKFJzbi"
      }
    },
    {
      "cell_type": "code",
      "metadata": {
        "id": "0JAuE76QNevG"
      },
      "source": [
        "class DatabaseConnector():\n",
        "  def __init__(self):\n",
        "      self.arango_host = 'http://ec2-18-158-123-0.eu-central-1.compute.amazonaws.com:8529'\n",
        "\n",
        "  def connect_db(self, dbname):\n",
        "      client = ArangoClient(hosts=self.arango_host)\n",
        "      db = client.db(dbname, username='nebula', password='nebula')\n",
        "      return (db)\n",
        "    "
      ],
      "execution_count": null,
      "outputs": []
    },
    {
      "cell_type": "code",
      "metadata": {
        "id": "83HoOUNZNsSz"
      },
      "source": [
        "gdb = DatabaseConnector()\n",
        "db = gdb.connect_db(\"nebula_development\")\n"
      ],
      "execution_count": null,
      "outputs": []
    },
    {
      "cell_type": "code",
      "metadata": {
        "id": "43pXnhJjNuDT"
      },
      "source": [
        "def get_movie_url(movie_id, db):\n",
        "  #nebula_movies = []\n",
        "  url = \"\"\n",
        "  query = 'FOR doc IN Movies FILTER doc._id == \"{}\" RETURN doc.url_path'.format(movie_id)\n",
        "  cursor = db.aql.execute(query)\n",
        "  for data in cursor:\n",
        "      #print(data)\n",
        "      url = data\n",
        "  #print(url)\n",
        "  return(url)"
      ],
      "execution_count": null,
      "outputs": []
    },
    {
      "cell_type": "code",
      "metadata": {
        "id": "N_1ffmTUNz14",
        "colab": {
          "base_uri": "https://localhost:8080/",
          "height": 35
        },
        "outputId": "39ba5065-5fa0-44ae-f67f-841958f3662b"
      },
      "source": [
        "get_movie_url('Movies/114208149', db)"
      ],
      "execution_count": null,
      "outputs": [
        {
          "output_type": "execute_result",
          "data": {
            "application/vnd.google.colaboratory.intrinsic+json": {
              "type": "string"
            },
            "text/plain": [
              "'static/development/1035_The_Adjustment_Bureau_00_01_40_825-00_01_46_814.mp4'"
            ]
          },
          "metadata": {},
          "execution_count": 13
        }
      ]
    },
    {
      "cell_type": "code",
      "metadata": {
        "id": "56moAccaN6uv",
        "colab": {
          "base_uri": "https://localhost:8080/"
        },
        "outputId": "8df852a5-39f8-408b-fe28-213546cb45d2"
      },
      "source": [
        "vector = mdmmt.encode_text(\"test encoder\")\n",
        "print(vector)"
      ],
      "execution_count": 5,
      "outputs": [
        {
          "output_type": "stream",
          "name": "stdout",
          "text": [
            "tensor([ 0.0050, -0.0057,  0.0204,  ...,  0.0024,  0.0030, -0.0023],\n",
            "       device='cuda:0')\n"
          ]
        }
      ]
    },
    {
      "cell_type": "markdown",
      "source": [
        "Test Nebula main API"
      ],
      "metadata": {
        "id": "4zB_0c0LO0Q8"
      }
    },
    {
      "cell_type": "code",
      "source": [
        "nre = NRE_API()\n",
        "nre.get_all_movies()"
      ],
      "metadata": {
        "id": "oD-cVysQ44rt"
      },
      "execution_count": null,
      "outputs": []
    },
    {
      "cell_type": "markdown",
      "source": [
        "Test Milvus API"
      ],
      "metadata": {
        "id": "q8oonL28CDa3"
      }
    },
    {
      "cell_type": "code",
      "source": [
        "from config_nebula.config import NEBULA_CONF\n",
        "ncfg = NEBULA_CONF()\n",
        "HOST, _PORT = ncfg.get_milvus_server()\n",
        "print(HOST, \" \", _PORT)\n",
        "from nebula_api.milvus_api import MilvusAPI\n",
        "milvus_events = MilvusAPI(\n",
        "            'milvus', 'vcomet_mdmmt_embedded_event', 'nebula_visualcomet', 1536)\n",
        "vector = vector.tolist()\n",
        "milvus_events.search_vector(40, vector)"
      ],
      "metadata": {
        "id": "zsq_PaVCCGT7"
      },
      "execution_count": null,
      "outputs": []
    }
  ]
}