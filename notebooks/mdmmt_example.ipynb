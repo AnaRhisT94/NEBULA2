{
 "cells": [
  {
   "cell_type": "code",
   "execution_count": 3,
   "id": "09e51e64",
   "metadata": {},
   "outputs": [],
   "source": [
    "import warnings\n",
    "warnings.filterwarnings(\"ignore\")\n",
    "\n",
    "\n",
    "import sys\n",
    "sys.path.append(\"models/tensorflow_models/research/audioset/\")\n",
    "sys.path.append(\"models/tensorflow_models/research/audioset/vggish\")\n",
    "\n",
    "import torch\n",
    "torch.set_grad_enabled(False)\n",
    "\n",
    "import scipy.io.wavfile as scio\n",
    "import io\n",
    "import numpy as np\n",
    "import vggish.vggish_input as vggish_input\n",
    "import subprocess\n",
    "\n",
    "\n",
    "from dumper import ffmpeg_audio_reader\n",
    "from dumper import read_frames_center_crop_batch\n",
    "\n",
    "from models.vggish_model import VGGish\n",
    "from models.vmz_model import VMZ_irCSN_152\n",
    "from models.clip_model import CLIP\n",
    "from models.mmt import BertTXT, BertVID"
   ]
  },
  {
   "cell_type": "markdown",
   "id": "b4f1b18e",
   "metadata": {},
   "source": [
    "# Code for showing video segment in notebook"
   ]
  },
  {
   "cell_type": "code",
   "execution_count": 4,
   "id": "e631f733",
   "metadata": {},
   "outputs": [],
   "source": [
    "from IPython.display import Javascript\n",
    "from IPython.display import HTML, display\n",
    "import base64\n",
    "\n",
    "def read_video_segm(abspath, t_beg, t_end):\n",
    "    cmd = f'ffmpeg -y -ss {t_beg} -i {abspath} -max_muxing_queue_size 9999  -loglevel error -f mp4 -vf scale=\"(floor(112/ih * iw/2))*2:112\"  -c:a copy  -movflags frag_keyframe+empty_moov -t {t_end - t_beg} pipe:1 -nostats -hide_banner -nostdin'\n",
    "    p = subprocess.run(cmd, shell=True, stdout=subprocess.PIPE)\n",
    "    assert p.returncode == 0, cmd\n",
    "    buf = p.stdout\n",
    "    return buf\n",
    "\n",
    "video_id_cnt = 0    \n",
    "class VideoElem:\n",
    "    def __init__(self, fname, t_start=0, t_end=999):\n",
    "        with open(fname, 'rb') as f:\n",
    "            #data = base64.standard_b64encode(f.read())\n",
    "            buf = read_video_segm(fname, t_start, t_end)\n",
    "            data = base64.standard_b64encode(buf)\n",
    "        global video_id_cnt\n",
    "        video_id_cnt += 1\n",
    "        self.video_id_cnt = video_id_cnt\n",
    "        elem = HTML(f\"\"\"\n",
    "            <video id=\"video_{self.video_id_cnt}\" autoplay loop muted>\n",
    "                <source src=\"data:video/mp4;base64,{data.decode('ascii')}\" type=\"video/mp4\">\n",
    "            </video>        \n",
    "        \"\"\")\n",
    "        display(elem)\n",
    "    \n",
    "    def hide(self):\n",
    "        js = f'$(\"#video_{self.video_id_cnt}\").hide()'\n",
    "        display(Javascript(js))\n",
    "        \n",
    "    def show(self):\n",
    "        js = f'$(\"#video_{self.video_id_cnt}\").show()'\n",
    "        display(Javascript(js))\n",
    "\n",
    "    def remove(self):\n",
    "        js = f'$(\"#video_{self.video_id_cnt}\").remove()'\n",
    "        display(Javascript(js))"
   ]
  },
  {
   "cell_type": "markdown",
   "id": "08e3e691",
   "metadata": {},
   "source": [
    "# Audio utils"
   ]
  },
  {
   "cell_type": "code",
   "execution_count": 5,
   "id": "904c0437",
   "metadata": {},
   "outputs": [],
   "source": [
    "class NoAudio(Exception):\n",
    "    pass\n",
    "\n",
    "def unpack_wav(wav):\n",
    "    sr, data = scio.read(io.BytesIO(wav))\n",
    "    data = data / 32768.0\n",
    "    segms = vggish_input.waveform_to_examples(data, sr)\n",
    "    t_start = np.arange(len(segms), dtype=np.float32) * 0.96\n",
    "    t_end = t_start + 0.96\n",
    "    timings = np.concatenate([t_start[..., None], t_end[..., None]], axis=1) # (nsegm, 2)\n",
    "    return timings, segms\n",
    "\n",
    "\n",
    "def vggish_compute_embs(model, path, t_start, t_end, batch_size=32):\n",
    "    wav = ffmpeg_audio_reader(path, t_start, t_end)\n",
    "    if wav is None:\n",
    "        # no audio channel\n",
    "        raise NoAudio\n",
    "    timings, segms = unpack_wav(wav)\n",
    "    \n",
    "    embs = []\n",
    "    idxs = range(0, len(segms), batch_size)\n",
    "    for idx in idxs:\n",
    "        embs.append(model(segms[idx: idx + batch_size]))\n",
    "    embs = np.concatenate(embs, axis=0)\n",
    "    return timings, embs\n"
   ]
  },
  {
   "cell_type": "markdown",
   "id": "36bc17ea",
   "metadata": {},
   "source": [
    "# Video utils"
   ]
  },
  {
   "cell_type": "code",
   "execution_count": 6,
   "id": "fce93fc4",
   "metadata": {},
   "outputs": [],
   "source": [
    "def visual_compute_embs(\n",
    "    model,\n",
    "    path,\n",
    "    t_start,\n",
    "    t_end,\n",
    "    fps=32,\n",
    "    frame_size=224,\n",
    "    frame_crop_size=224,\n",
    "    per_batch_size=4,\n",
    "    frames_per_clip=32):\n",
    "    frames_batch_iter = read_frames_center_crop_batch(\n",
    "        path,\n",
    "        fps=fps,\n",
    "        frame_size=frame_size,\n",
    "        frame_crop_size=frame_crop_size,\n",
    "        batch_num_frames=per_batch_size*frames_per_clip,\n",
    "        t_start=t_start,\n",
    "        t_end=t_end)\n",
    "    embs = []\n",
    "    timings = []\n",
    "    t = 0\n",
    "    delta = frames_per_clip / fps\n",
    "    for frames in frames_batch_iter:\n",
    "        if len(frames) % frames_per_clip > 0:\n",
    "            n = len(frames)\n",
    "            n1 = int(len(frames) // frames_per_clip * frames_per_clip)\n",
    "            frames1 = frames[:n1]\n",
    "            # increase frame rate in the last video segment\n",
    "            idxs = np.ceil(np.linspace(n1, n-1, frames_per_clip)).astype(np.long)\n",
    "            frames2 = frames[idxs]\n",
    "            frames = np.concatenate([frames1, frames2], axis=0)\n",
    "        assert len(frames) % frames_per_clip == 0\n",
    "        batch_frames = frames.reshape(-1, frames_per_clip, frame_crop_size, frame_crop_size, 3)\n",
    "        for _ in range(len(batch_frames)):\n",
    "            timings.append((t, t + delta))\n",
    "            t += delta\n",
    "        embs.append(model(batch_frames))\n",
    "    embs = np.concatenate(embs, axis=0)\n",
    "    timings = np.array(timings) # (nsegm, 2)\n",
    "    return timings, embs"
   ]
  },
  {
   "cell_type": "code",
   "execution_count": 50,
   "id": "be56f82a",
   "metadata": {},
   "outputs": [],
   "source": [
    "def prepare_features(features, features_t):\n",
    "    all_features = {}\n",
    "    all_features_t = {}\n",
    "    all_features_mask = {}\n",
    "\n",
    "    for mod_name, einfo in experts_info.items():\n",
    "        max_tok = einfo[\"max_tok\"]\n",
    "        dim = einfo[\"dim\"]\n",
    "        all_features[mod_name] = torch.zeros(1, max_tok, dim)\n",
    "        all_features_t[mod_name] = torch.zeros(1, max_tok)\n",
    "        all_features_mask[mod_name] = torch.zeros(1, max_tok)\n",
    "    for mod_name in features.keys():\n",
    "        max_tok = experts_info[mod_name][\"max_tok\"]\n",
    "        mod_feat = features[mod_name]\n",
    "        mod_feat_t = np.array(features_t[mod_name])\n",
    "        if mod_feat is None:\n",
    "            continue\n",
    "        assert len(mod_feat) == len(mod_feat_t), (len(mod_feat), len(mod_feat_t))\n",
    "        if np.isnan(mod_feat_t.sum()):\n",
    "            mod_feat_t = np.zeros(len(mod_feat_t))\n",
    "            mod_feat_t[:] = 1\n",
    "        else:\n",
    "            mod_feat_t = mod_feat_t - mod_feat_t[:,0].min()\n",
    "            mod_feat_t = 2 + (mod_feat_t[:,1] + mod_feat_t[:,0]) / 2 # (ntok,)\n",
    "        all_features[mod_name][0,:len(mod_feat)] = torch.from_numpy(mod_feat[:max_tok].copy())\n",
    "        all_features_t[mod_name][0,:len(mod_feat)] = torch.from_numpy(mod_feat_t[:max_tok].copy())\n",
    "        all_features_mask[mod_name][0, :len(mod_feat)] = 1\n",
    "    return all_features, all_features_t, all_features_mask\n",
    "\n",
    "def dict_to_cuda(d):\n",
    "    return {k:v.cuda() for k, v in d.items()}\n",
    "\n",
    "\n",
    "def encode_video(vggish_model, vmz_model, clip_model, model_vid, path, t_start=None, t_end=None):\n",
    "    try:\n",
    "        timings_vggish, embs_vggish = vggish_compute_embs(vggish_model, path, t_start, t_end)\n",
    "    except NoAudio:\n",
    "        timings_vggish, embs_vggish = None, None\n",
    "    timings_vmz, embs_vmz = visual_compute_embs(vmz_model, path, t_start, t_end,\n",
    "                                                fps=24, frames_per_clip=32, frame_crop_size=224, frame_size=224)\n",
    "    timings_clip, embs_clip = visual_compute_embs(clip_model, path, t_start, t_end,\n",
    "                                                fps=24, frames_per_clip=1, frame_crop_size=224, frame_size=224)\n",
    "\n",
    "    features = {\n",
    "        'VIDEO': embs_vmz,\n",
    "        'CLIP': embs_clip,\n",
    "        'tf_vggish': embs_vggish,\n",
    "    }\n",
    "\n",
    "    features_t = {\n",
    "        'VIDEO': timings_vmz,\n",
    "        'CLIP': timings_clip,\n",
    "        'tf_vggish': timings_vggish,\n",
    "    }\n",
    "    \n",
    "    all_features, all_features_t, all_features_mask = prepare_features(features, features_t)\n",
    "    \n",
    "    all_features = dict_to_cuda(all_features)\n",
    "    all_features_t = dict_to_cuda(all_features_t)\n",
    "    all_features_mask = dict_to_cuda(all_features_mask)\n",
    "    \n",
    "    out = model_vid(all_features, all_features_t, all_features_mask) # (1, 512*3)\n",
    "    return out[0]\n",
    "\n",
    "def encode_text(text):\n",
    "    emb = model_txt([text])[0]\n",
    "    return emb\n",
    "\n",
    "def batch_encode_text(texts):\n",
    "    embs = model_txt(texts)\n",
    "    return embs\n",
    "\n",
    "def sim(x1, x2):\n",
    "    return (x1*x2).sum()"
   ]
  },
  {
   "cell_type": "markdown",
   "id": "862546ff",
   "metadata": {},
   "source": [
    "# Models"
   ]
  },
  {
   "cell_type": "code",
   "execution_count": 51,
   "id": "9b1f2662",
   "metadata": {},
   "outputs": [
    {
     "name": "stdout",
     "output_type": "stream",
     "text": [
      "INFO:tensorflow:Restoring parameters from ckpts/vggish_model.ckpt\n"
     ]
    }
   ],
   "source": [
    "vggish_model = VGGish(ckpt_path='ckpts/vggish_model.ckpt', per_batch_size=32)\n",
    "vmz_model = VMZ_irCSN_152('ckpts/irCSN_152_ig65m_from_scratch_f125286141.pth')\n",
    "clip_model = CLIP()"
   ]
  },
  {
   "cell_type": "code",
   "execution_count": 52,
   "id": "ccc58c45",
   "metadata": {},
   "outputs": [
    {
     "name": "stderr",
     "output_type": "stream",
     "text": [
      "Some weights of the model checkpoint at bert-base-cased were not used when initializing BertModel: ['cls.predictions.transform.LayerNorm.bias', 'cls.predictions.transform.dense.bias', 'cls.predictions.transform.LayerNorm.weight', 'cls.predictions.decoder.weight', 'cls.seq_relationship.weight', 'cls.predictions.transform.dense.weight', 'cls.seq_relationship.bias', 'cls.predictions.bias']\n",
      "- This IS expected if you are initializing BertModel from the checkpoint of a model trained on another task or with another architecture (e.g. initializing a BertForSequenceClassification model from a BertForPreTraining model).\n",
      "- This IS NOT expected if you are initializing BertModel from the checkpoint of a model that you expect to be exactly identical (initializing a BertForSequenceClassification model from a BertForSequenceClassification model).\n"
     ]
    }
   ],
   "source": [
    "from transformers import AutoModel, AutoTokenizer \n",
    "\n",
    "\n",
    "# Define the model repo\n",
    "model_name = \"bert-base-cased\" \n",
    "\n",
    "\n",
    "# Download pytorch model\n",
    "model = AutoModel.from_pretrained(model_name)\n",
    "tokenizer = AutoTokenizer.from_pretrained(model_name)\n",
    "\n"
   ]
  },
  {
   "cell_type": "code",
   "execution_count": 53,
   "id": "ceb265e1",
   "metadata": {},
   "outputs": [
    {
     "name": "stderr",
     "output_type": "stream",
     "text": [
      "Some weights of the model checkpoint at bert-base-cased were not used when initializing BertModel: ['cls.predictions.transform.LayerNorm.bias', 'cls.predictions.transform.dense.bias', 'cls.predictions.transform.LayerNorm.weight', 'cls.predictions.decoder.weight', 'cls.seq_relationship.weight', 'cls.predictions.transform.dense.weight', 'cls.seq_relationship.bias', 'cls.predictions.bias']\n",
      "- This IS expected if you are initializing BertModel from the checkpoint of a model trained on another task or with another architecture (e.g. initializing a BertForSequenceClassification model from a BertForPreTraining model).\n",
      "- This IS NOT expected if you are initializing BertModel from the checkpoint of a model that you expect to be exactly identical (initializing a BertForSequenceClassification model from a BertForSequenceClassification model).\n"
     ]
    }
   ],
   "source": [
    "\n",
    "state = torch.load('/home/dimas/mdmmt_test-master/checkpoint/mdmmt_3mod.pth', map_location='cpu')\n",
    "\n",
    "experts_info = {\n",
    "    'VIDEO': dict(dim=2048, idx=1, max_tok=30),\n",
    "    'CLIP': dict(dim=512, idx=2, max_tok=30),\n",
    "    'tf_vggish': dict(dim=128, idx=3, max_tok=30),\n",
    "}\n",
    "vid_bert_params = {\n",
    "    'vocab_size_or_config_json_file': 10,\n",
    "    'hidden_size': 512,\n",
    "    'num_hidden_layers': 9,\n",
    "    'intermediate_size': 3072,\n",
    "    'hidden_act': 'gelu',\n",
    "    'hidden_dropout_prob': 0.2,\n",
    "    'attention_probs_dropout_prob': 0.2,\n",
    "    'max_position_embeddings': 32,\n",
    "    'type_vocab_size': 19,\n",
    "    'initializer_range': 0.02,\n",
    "    'layer_norm_eps': 1e-12,\n",
    "    'num_attention_heads': 8,\n",
    "}\n",
    "model_vid = BertVID(expert_dims=experts_info, vid_bert_params=vid_bert_params)\n",
    "model_vid = model_vid.eval()\n",
    "model_vid.load_state_dict(state['vid_state_dict'])\n",
    "model_vid = model_vid.cuda()\n",
    "\n",
    "txt_bert_params = {\n",
    "    'hidden_dropout_prob': 0.2,\n",
    "    'attention_probs_dropout_prob': 0.2,\n",
    "}\n",
    "model_txt = BertTXT(\n",
    "    modalities=list(experts_info.keys()),\n",
    "    add_special_tokens=True,\n",
    "    txt_bert_params=txt_bert_params,\n",
    ")\n",
    "model_txt = model_txt.eval()\n",
    "model_txt.load_state_dict(state['txt_state_dict'])\n",
    "model_txt = model_txt.cuda()"
   ]
  },
  {
   "cell_type": "markdown",
   "id": "ca62584e",
   "metadata": {},
   "source": [
    "# Compute scores"
   ]
  },
  {
   "cell_type": "code",
   "execution_count": 65,
   "id": "af6e9def",
   "metadata": {},
   "outputs": [
    {
     "data": {
      "text/html": [
       "\n",
       "            <video id=\"video_12\" autoplay loop muted>\n",
       "                <source src=\"data:video/mp4;base64,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\" type=\"video/mp4\">\n",
       "            </video>        \n",
       "        "
      ],
      "text/plain": [
       "<IPython.core.display.HTML object>"
      ]
     },
     "metadata": {},
     "output_type": "display_data"
    },
    {
     "data": {
      "text/plain": [
       "<__main__.VideoElem at 0x7f77900dea50>"
      ]
     },
     "execution_count": 65,
     "metadata": {},
     "output_type": "execute_result"
    }
   ],
   "source": [
    "path = '/home/dimas/mdmmt_test-master/1010_TITANIC_00_41_32_072-00_41_40_196.mp4'\n",
    "#path = '/home/wx587276/SML_office_videos/IMG_1497.MOV'\n",
    "#path = '/home/wx587276/SML_office_videos/IMG_1498.MOV'\n",
    "t_start=0\n",
    "t_end=2\n",
    "VideoElem(path, t_start, t_end)"
   ]
  },
  {
   "cell_type": "code",
   "execution_count": 66,
   "id": "e57cf9c3",
   "metadata": {},
   "outputs": [],
   "source": [
    "vemb = encode_video(\n",
    "    vggish_model, # adio modality\n",
    "    vmz_model, # video modality\n",
    "    clip_model, # image modality\n",
    "    model_vid, # aggregator\n",
    "    path, t_start, t_end)"
   ]
  },
  {
   "cell_type": "code",
   "execution_count": 68,
   "id": "56784e59",
   "metadata": {},
   "outputs": [
    {
     "name": "stdout",
     "output_type": "stream",
     "text": [
      "0.22126026451587677 actor stands closely behind a red haired woman\n",
      "0.09978814423084259 this scene was filmed on a cathedral balcony\n",
      "-0.11414779722690582 a man in t-shirt sits near the computer\n",
      "-0.11777155846357346 a man in shirt sits near the computer\n",
      "-0.11854524910449982 a man in a shirt sits in front of a computer\n",
      "-0.11945630609989166 a man in a t-shirt sits in front of a computer\n",
      "0.2930251657962799 woman is resting her hand on the ship rail and conversing with someone\n",
      "0.3165666162967682 a women is standing near men on the boat\n",
      "0.287163645029068 woman is dressed in finery and hangs on the edge of the boat looking sad\n",
      "0.022646740078926086 a man is walking\n",
      "0.23212887346744537 this scene is on a large boat\n",
      "0.03144485503435135 man in red jacket\n",
      "-0.028973018750548363 a man walks by a chair\n",
      "-0.03816576302051544 A man is jumping near the chair\n",
      "-0.04523948207497597 A man is jumping\n",
      "0.10681651532649994 A man walks\n",
      "0.304289847612381 this scene was filmed on a ship deck\n",
      "0.1555849313735962 the man jumps\n"
     ]
    }
   ],
   "source": [
    "texts = [\n",
    "    'actor stands closely behind a red haired woman',\n",
    "    'this scene was filmed on a cathedral balcony',\n",
    "    'a man in t-shirt sits near the computer',\n",
    "    'a man in shirt sits near the computer',\n",
    "    'a man in a shirt sits in front of a computer',\n",
    "    'a man in a t-shirt sits in front of a computer',\n",
    "    'woman is resting her hand on the ship rail and conversing with someone',\n",
    "    'a women is standing near men on the boat',\n",
    "    'woman is dressed in finery and hangs on the edge of the boat looking sad',\n",
    "    'a man is walking',\n",
    "    'this scene is on a large boat',\n",
    "    'man in red jacket',\n",
    "    'a man walks by a chair',\n",
    "    'A man is jumping near the chair',\n",
    "    'A man is jumping',\n",
    "    'A man walks',\n",
    "    'this scene was filmed on a ship deck',\n",
    "    'the man jumps'\n",
    "]\n",
    "tembs = batch_encode_text(texts)\n",
    "scores = torch.matmul(tembs, vemb)\n",
    "for txt, score in zip(texts, scores):\n",
    "    print(score.item(), txt)"
   ]
  },
  {
   "cell_type": "markdown",
   "id": "87c9999d",
   "metadata": {},
   "source": [
    "# MSRVTT 1kA test"
   ]
  },
  {
   "cell_type": "code",
   "execution_count": 135,
   "id": "c8e5b9f0",
   "metadata": {},
   "outputs": [],
   "source": [
    "import pickle\n",
    "import json\n",
    "from collections import defaultdict\n",
    "\n",
    "with open('/home/wx587276/level2/rb_mixin_clip/msrvtt/symlinked-feats/jsfusion_val_caption_idx.pkl', 'rb') as f:\n",
    "    vid_2_capidx = pickle.load(f)\n",
    "\n",
    "with open('/ssd/ssd_srv79/datasets/MSR_VTT/msrvtt/test_videodatainfo.json') as f:\n",
    "    j = json.load(f)\n",
    "    \n",
    "video_2_texts = defaultdict(list)\n",
    "for x in j['sentences']:\n",
    "    video_2_texts[x['video_id']].append(x['caption'])\n",
    "video_2_text = {}\n",
    "for vid, cap_idx in vid_2_capidx.items():\n",
    "    video_2_text[vid] = video_2_texts[vid][cap_idx]\n",
    "root = '/ssd/ssd_srv79/datasets/MSR_VTT/msrvtt/AllVideo/'\n",
    "path_2_text = {}\n",
    "for vid, caption in video_2_text.items():\n",
    "    path = os.path.join(root, f'{vid}.mp4')\n",
    "    assert os.path.exists(path)\n",
    "    path_2_text[path] = caption   \n",
    "\n",
    "paths = list(path_2_text.keys())"
   ]
  },
  {
   "cell_type": "markdown",
   "id": "a39c7ea3",
   "metadata": {},
   "source": [
    "## prepare video embs"
   ]
  },
  {
   "cell_type": "code",
   "execution_count": 164,
   "id": "b0084350",
   "metadata": {},
   "outputs": [
    {
     "name": "stderr",
     "output_type": "stream",
     "text": [
      "100%|██████████| 1000/1000 [2:16:16<00:00,  8.18s/it] \n"
     ]
    }
   ],
   "source": [
    "vembs = []\n",
    "for path in tqdm(paths):\n",
    "    vemb = encode_video(\n",
    "        vggish_model, # adio modality\n",
    "        vmz_model, # video modality\n",
    "        clip_model, # image modality\n",
    "        model_vid, # aggregator\n",
    "        path)  \n",
    "    vembs.append(vemb.cpu())\n",
    "vembs = torch.cat([x[None, :] for x in vembs], dim=0) # (nvid, dim)"
   ]
  },
  {
   "cell_type": "code",
   "execution_count": 149,
   "id": "cf0e31e4",
   "metadata": {},
   "outputs": [],
   "source": [
    "vembs_old = vembs"
   ]
  },
  {
   "cell_type": "markdown",
   "id": "56d3c049",
   "metadata": {},
   "source": [
    "## prepare video embs"
   ]
  },
  {
   "cell_type": "code",
   "execution_count": 137,
   "id": "c8ae1fc5",
   "metadata": {},
   "outputs": [
    {
     "name": "stderr",
     "output_type": "stream",
     "text": [
      "100%|██████████| 1000/1000 [00:12<00:00, 78.97it/s]\n"
     ]
    }
   ],
   "source": [
    "tembs = []\n",
    "for path in tqdm(paths):\n",
    "    text = path_2_text[path]\n",
    "    temb = encode_text(text).cpu()\n",
    "    tembs.append(temb) \n",
    "tembs = torch.cat([x[None, :] for x in tembs], dim=0) # (ntxt, dim)"
   ]
  },
  {
   "cell_type": "markdown",
   "id": "ab4b1294",
   "metadata": {},
   "source": [
    "## compute results"
   ]
  },
  {
   "cell_type": "code",
   "execution_count": 165,
   "id": "b7df0bc4",
   "metadata": {},
   "outputs": [
    {
     "name": "stdout",
     "output_type": "stream",
     "text": [
      "R@1=38.0 R@5=67.5999984741211\n"
     ]
    }
   ],
   "source": [
    "S = torch.matmul(tembs, vembs.t())\n",
    "pos = S.diag()\n",
    "pos_text2video = pos[:,None]\n",
    "ranks = (S >= pos_text2video).sum(dim=1) # (ntxt,)\n",
    "\n",
    "ntxt = len(ranks)\n",
    "R1 = (100 * (ranks <= 1).sum() / ntxt).item()\n",
    "R5 = (100 * (ranks <= 5).sum() / ntxt).item()\n",
    "print(f'R@1={R1} R@5={R5}')"
   ]
  },
  {
   "cell_type": "code",
   "execution_count": 160,
   "id": "17f8c381",
   "metadata": {},
   "outputs": [],
   "source": [
    "import numpy as np\n",
    "\n",
    "# video10\n",
    "with open('/ssd/ssd_srv79/dumps/msrvtt/CLIP/msrvtt-0.emb', 'rb') as f:\n",
    "    clip_embs_old = torch.from_numpy(np.frombuffer(f.read(4*512*13), dtype=np.float32).reshape(13,512))"
   ]
  },
  {
   "cell_type": "code",
   "execution_count": 154,
   "id": "3397a492",
   "metadata": {},
   "outputs": [],
   "source": [
    "path = '/ssd/ssd_srv79/datasets/MSR_VTT/msrvtt/AllVideo/video10.mp4'"
   ]
  },
  {
   "cell_type": "code",
   "execution_count": 158,
   "id": "34abdb27",
   "metadata": {},
   "outputs": [],
   "source": [
    "timings_clip, embs_clip = visual_compute_embs(clip_model, path, t_start=None, t_end=None,\n",
    "                                            fps=1, frames_per_clip=1, frame_crop_size=228, frame_size=228)"
   ]
  },
  {
   "cell_type": "code",
   "execution_count": 163,
   "id": "f2f64153",
   "metadata": {},
   "outputs": [
    {
     "data": {
      "text/plain": [
       "tensor([0.9719, 0.9750, 0.9719, 0.9708, 0.9534, 0.9640, 0.9745, 0.9689, 0.9735,\n",
       "        0.9607, 0.9747, 0.9678, 0.9627])"
      ]
     },
     "execution_count": 163,
     "metadata": {},
     "output_type": "execute_result"
    }
   ],
   "source": [
    "(torch.from_numpy(embs_clip)*clip_embs_old).sum(dim=1) / torch.from_numpy(embs_clip).norm(dim=1) / clip_embs_old.norm(dim=1)"
   ]
  }
 ],
 "metadata": {
  "kernelspec": {
   "display_name": "mdmmt_test",
   "language": "python",
   "name": "mdmmt_test"
  },
  "language_info": {
   "codemirror_mode": {
    "name": "ipython",
    "version": 3
   },
   "file_extension": ".py",
   "mimetype": "text/x-python",
   "name": "python",
   "nbconvert_exporter": "python",
   "pygments_lexer": "ipython3",
   "version": "3.7.11"
  }
 },
 "nbformat": 4,
 "nbformat_minor": 5
}
